{
 "cells": [
  {
   "cell_type": "code",
   "execution_count": 2,
   "metadata": {},
   "outputs": [],
   "source": [
    "import plotly.express as px\n",
    "import pandas as pd\n",
    "from plotly import graph_objects as go\n",
    "import plotly\n",
    "import string"
   ]
  },
  {
   "cell_type": "code",
   "execution_count": 3,
   "metadata": {},
   "outputs": [],
   "source": [
    "sys_turns_path = \"../analysis/simmc_furniture/furniture_dev_sys_turns.txt\""
   ]
  },
  {
   "cell_type": "code",
   "execution_count": 4,
   "metadata": {},
   "outputs": [],
   "source": [
    "with open(sys_turns_path) as file_h:\n",
    "    sys_turns = file_h.read().splitlines()\n",
    "\n",
    "sys_turns = pd.Series(sys_turns)"
   ]
  },
  {
   "cell_type": "code",
   "execution_count": 6,
   "metadata": {},
   "outputs": [
    {
     "data": {
      "text/plain": [
       "0       Wonderful! Is there a particular style you are...\n",
       "1       Here is a nice cube storage bookcase in a ches...\n",
       "2                                             Here ya go!\n",
       "3                                                   Sure.\n",
       "4       I only see the only color for this bookcase. W...\n",
       "                              ...                        \n",
       "4822            I have this one but it's not solid black.\n",
       "4823    It measures 33\"H x 72\" W x 31\" D. Do you think...\n",
       "4824                         This sofa sells for $988.99.\n",
       "4825    Great, I've added it to your cart... will ther...\n",
       "4826                                      You're welcome.\n",
       "Length: 4827, dtype: object"
      ]
     },
     "execution_count": 6,
     "metadata": {},
     "output_type": "execute_result"
    }
   ],
   "source": [
    "sys_turns"
   ]
  },
  {
   "cell_type": "code",
   "execution_count": null,
   "metadata": {},
   "outputs": [],
   "source": []
  },
  {
   "cell_type": "code",
   "execution_count": 5,
   "metadata": {},
   "outputs": [],
   "source": [
    "# data cleaning functions\n",
    "\n",
    "def clean_input_sentences(ser):\n",
    "    '''\n",
    "    clean a Series of strings. Modify according to requirement\n",
    "    \n",
    "    Right now only removes punctuation\n",
    "    '''\n",
    "    ser = ser.apply(lambda x: x[:-1] if x[-1] in string.punctuation else x)\n",
    "    ser = ser.apply(lambda x: ''.join(['' if s in string.punctuation else s for s in x ]))\n",
    "    return ser"
   ]
  },
  {
   "cell_type": "code",
   "execution_count": 7,
   "metadata": {},
   "outputs": [],
   "source": [
    "\n",
    "normans_ls = sys_turns.str.split(' ')\n",
    "\n",
    "# Create functions for manipulating data and plotting\n",
    "\n",
    "def expand_sentence(sentence, n ):\n",
    "    sen = sentence.split(' ')\n",
    "    dc = {}\n",
    "    for i in range(n):\n",
    "        try:\n",
    "            dc[i] = sen[i]\n",
    "        except IndexError:\n",
    "            dc[i] = '<blank>'\n",
    "    return dc\n",
    "\n",
    "def expand_sentence_cols(ser, n=2):\n",
    "    df = ser.apply(expand_sentence,n=n)\n",
    "    return pd.DataFrame(list(df))\n",
    "\n",
    "def plot_sentence_sunburst(ser, level=2, clean_input=True, threshold_first_level=0, min_last_level_count=0, filepath = ''):\n",
    "    \"\"\"\n",
    "    ser: pandas series containing sentences as strings with words separated by single space\n",
    "    level: the depth of sunburst plot in terms of words to be taken from beginning\n",
    "    output: sunburst plot of words in sentences depicting their connections and frequency\n",
    "    \"\"\"\n",
    "    if clean_input:\n",
    "        ser = clean_input_sentences(ser)\n",
    "    \n",
    "    df = expand_sentence_cols(ser, n=level)\n",
    "    \n",
    "    if threshold_first_level:\n",
    "        threshold_values = list(df[0].value_counts().nlargest(threshold_first_level).index)\n",
    "        df = df.loc[df[0].map(lambda x: x in threshold_values)]\n",
    "    \n",
    "    df = pd.DataFrame(df.groupby(list(range(level))).apply(len)).rename(columns={0:'count'}).reset_index()\n",
    "    \n",
    "    if min_last_level_count == 0:\n",
    "        min_last_level_count = len(ser)/(100*level)\n",
    "    df = df.query(\"count >= @min_last_level_count\")\n",
    "    df.replace('','<blank>')\n",
    "    #return df\n",
    "    fig = px.sunburst(df, path=list(range(level)), values='count')\n",
    "    if filepath:\n",
    "        fig.write_html(filepath)\n",
    "    fig.show()\n"
   ]
  },
  {
   "cell_type": "code",
   "execution_count": 8,
   "metadata": {},
   "outputs": [],
   "source": [
    "def get_layer_data(ser, n=2): # gets data  as value counts from the given layer from event_path # i.e the counts of n-1th and nth steps\n",
    "    ser_x = ser.str.split(' ').map(lambda x: tuple(x[n-2:n]) if len(x)>=n else None)\n",
    "    return pd.Series(ser_x).value_counts()\n",
    "    \n",
    "def get_all_indices(listlike, compare_value):\n",
    "    return [i for i, value in enumerate(listlike) if value == compare_value]\n",
    "\n",
    "# creating a new class from go.Sankey\n",
    "class Layered_sankey(go.Sankey):\n",
    "    def add_first_layer(self, data_value_counts): # adds first layer from a value_counts dataframe\n",
    "        #nodes\n",
    "        old_labels = list(data_value_counts.index.map(lambda x: x[0]).drop_duplicates())\n",
    "        updated_labels = list(list(data_value_counts.index.map(lambda x: x[0]).drop_duplicates()) #First Layer, no incoming connections\n",
    "                          + list(data_value_counts.index.map(lambda x: x[1]).drop_duplicates()) # Second Layer, contains connections from first layer\n",
    "                         )\n",
    "        #links\n",
    "        new_source = [] #getting the sources for links from the first element of indx pair\n",
    "        new_target = [] #getting the target for links from the second element of indx pair\n",
    "        new_value = [] #  changed here to avoid duplication\n",
    "        sum_value = data_value_counts.sum()\n",
    "        self['node']['label'] = updated_labels\n",
    "        self['link']['source'] = new_source\n",
    "        self['link']['target'] = new_target\n",
    "        self['link']['value'] = new_value\n",
    "        \n",
    "        for s, t in data_value_counts.index:\n",
    "            new_source.append(get_all_indices(old_labels, s)[-1])#appending source \n",
    "            new_target.append(get_all_indices(updated_labels, t)[-1])#appending target\n",
    "            new_value.append(data_value_counts[(s,t)])#appending value\n",
    "        self['node']['label'] = updated_labels\n",
    "        self['link']['source'] = new_source\n",
    "        self['link']['target'] = new_target\n",
    "        self['link']['value'] = new_value\n",
    "        self['link']['label'] = tuple(\n",
    "            map(\n",
    "                lambda x: str(round(x*100,4)) + ' %', list(data_value_counts/sum_value)\n",
    "            )\n",
    "        )\n",
    "\n",
    "        \n",
    " \n",
    "    \n",
    "    def add_layer(self,data_value_counts): # adds a layer from value counts dataframe\n",
    "        #nodes\n",
    "        old_labels = list(self['node']['label'])\n",
    "        new_labels = list(data_value_counts.index.map(lambda x: x[1]).drop_duplicates()) # add new layer nodes\n",
    "        updated_labels = tuple(old_labels + new_labels)\n",
    "        sum_value = data_value_counts.sum()\n",
    "        #print (old_labels)\n",
    "        #print(new_labels)\n",
    "        #print(updated_labels)\n",
    "        #links \n",
    "        new_source = list(self['link']['source'])\n",
    "        new_target = list(self['link']['target'])\n",
    "        new_value = list(self['link']['value'])\n",
    "        new_label = list(self['link']['label'])\n",
    "        \n",
    "        for s, t in data_value_counts.index:\n",
    "            new_source.append(get_all_indices(old_labels, s)[-1])#appending source \n",
    "            new_target.append(get_all_indices(updated_labels, t)[-1])#appending target\n",
    "            new_value.append(data_value_counts[(s,t)])#appending value\n",
    "            new_label.append(str(round(100*data_value_counts[(s,t)]/sum_value, 4)) + ' %')#appending label\n",
    "            \n",
    "        self['node']['label'] = tuple(updated_labels)\n",
    "        self['link']['source'] = tuple(new_source)\n",
    "        self['link']['target'] = tuple(new_target)\n",
    "        self['link']['value'] = tuple(new_value)\n",
    "        self['link']['label'] = tuple(new_label)\n"
   ]
  },
  {
   "cell_type": "code",
   "execution_count": 13,
   "metadata": {},
   "outputs": [],
   "source": [
    "def plot_sentence_sankey(ser, level=2):\n",
    "    #initialise the sankey using basic info\n",
    "    fwd_sankey = Layered_sankey(\n",
    "        node = dict(\n",
    "          #pad = 15,\n",
    "          #thickness = 20,\n",
    "          #line = dict(color = \"black\", width = 0.5),\n",
    "          #label = [\"RedZone Purchase\"],\n",
    "          #color = \"blue\"\n",
    "        ),\n",
    "        link = dict(\n",
    "        color = 'rgba(0,0,150,0.2)' # color of connections\n",
    "        )\n",
    "    )\n",
    "    \n",
    "    fwd_sankey.add_first_layer(get_layer_data(ser, 2))\n",
    "    if level > 2:\n",
    "        for i in range(3, level+1):\n",
    "            fwd_sankey.add_layer(get_layer_data(ser, i))\n",
    "    \n",
    "    fig = go.Figure(data = fwd_sankey)\n",
    "    fig.show()\n"
   ]
  },
  {
   "cell_type": "code",
   "execution_count": 133,
   "metadata": {},
   "outputs": [
    {
     "data": {
      "application/vnd.plotly.v1+json": {
       "config": {
        "plotlyServerURL": "https://plot.ly"
       },
       "data": [
        {
         "branchvalues": "total",
         "domain": {
          "x": [
           0,
           1
          ],
          "y": [
           0,
           1
          ]
         },
         "hovertemplate": "labels=%{label}<br>count=%{value}<br>parent=%{parent}<br>id=%{id}<extra></extra>",
         "ids": [
          "Sure/<blank>/<blank>/<blank>/<blank>",
          "You/too/<blank>/<blank>/<blank>",
          "Here/you/are/<blank>/<blank>",
          "Here/you/go/<blank>/<blank>",
          "Here/it/is/<blank>/<blank>",
          "What/about/these/<blank>/<blank>",
          "You/are/welcome/<blank>/<blank>",
          "You/as/well/<blank>/<blank>",
          "Here/are/a/few/<blank>",
          "Sure/Here/you/go/<blank>",
          "Sure/here/you/go/<blank>",
          "You/are/very/welcome/<blank>",
          "This/is/the/Hedon/Kitchen",
          "You/are/welcome/Have/a",
          "Sure/Do/you/have/a",
          "What/do/you/think/about",
          "This/one/is/priced/at",
          "Sure/here/is/a/closer",
          "Sure/here/are/a/few",
          "Sure/are/you/looking/for",
          "It/is/on/sale/for",
          "Here/is/a/view/from",
          "This/is/a/view/from",
          "You/welcome/have/a/great",
          "I/have/added/this/item",
          "What/color/would/you/like",
          "Here/is/a/closer/look",
          "Here/are/a/few/more",
          "Here/are/a/couple/of",
          "Here/are/a/few/of",
          "What/do/you/think/of",
          "This/is/a/view/of",
          "Here/are/some/of/our",
          "What/is/your/color/preference",
          "Here/is/the/left/side",
          "This/is/the/left/side",
          "Yes/I/can/do/that",
          "I/can/help/with/that",
          "Here/it/is/from/the",
          "Here/are/some/of/the",
          "It/has/been/added/to",
          "I/would/be/glad/to",
          "I/will/be/happy/to",
          "I/would/be/happy/to",
          "Great/Ill/add/it/to",
          "I/will/add/it/to",
          "I/have/added/it/to",
          "I/have/added/this/to",
          "Here/is/a/side/view",
          "Here/is/a/top/view",
          "Here/is/the/top/view",
          "This/is/the/top/view",
          "Sure/I/can/help/with",
          "I/can/help/you/with",
          "Sure/I/can/help/you",
          "Sure/what/color/would/you",
          "Sure/<blank>/<blank>/<blank>",
          "You/too/<blank>/<blank>",
          "Here/you/are/<blank>",
          "Here/you/go/<blank>",
          "Here/it/is/<blank>",
          "What/about/these/<blank>",
          "You/are/welcome/<blank>",
          "You/as/well/<blank>",
          "You/are/welcome/Have",
          "This/is/the/Hedon",
          "Sure/here/are/a",
          "You/welcome/have/a",
          "Sure/here/is/a",
          "It/has/been/added",
          "Here/is/a/closer",
          "What/is/your/color",
          "Here/are/a/couple",
          "Yes/I/can/do",
          "Here/are/a/few",
          "Here/it/is/from",
          "I/would/be/glad",
          "Sure/Here/you/go",
          "Sure/here/you/go",
          "I/will/be/happy",
          "I/would/be/happy",
          "Sure/Do/you/have",
          "Sure/I/can/help",
          "Great/Ill/add/it",
          "I/will/add/it",
          "I/have/added/it",
          "Here/is/the/left",
          "This/is/the/left",
          "Sure/are/you/looking",
          "Here/are/some/of",
          "This/one/is/priced",
          "It/is/on/sale",
          "Here/is/a/side",
          "What/do/you/think",
          "I/have/added/this",
          "Here/is/a/top",
          "Here/is/the/top",
          "This/is/the/top",
          "Here/is/a/view",
          "This/is/a/view",
          "You/are/very/welcome",
          "I/can/help/with",
          "Sure/what/color/would",
          "I/can/help/you",
          "What/color/would/you",
          "Sure/<blank>/<blank>",
          "You/too/<blank>",
          "Here/are/a",
          "Here/is/a",
          "This/is/a",
          "Great/Ill/add",
          "I/will/add",
          "I/have/added",
          "Sure/here/are",
          "Here/you/are",
          "I/will/be",
          "I/would/be",
          "It/has/been",
          "Sure/I/can",
          "Yes/I/can",
          "Sure/what/color",
          "Here/you/go",
          "You/welcome/have",
          "I/can/help",
          "Sure/here/is",
          "Here/it/is",
          "This/one/is",
          "It/is/on",
          "Here/are/some",
          "Here/is/the",
          "This/is/the",
          "What/about/these",
          "You/are/very",
          "You/are/welcome",
          "You/as/well",
          "What/color/would",
          "Sure/Do/you",
          "Sure/Here/you",
          "Sure/are/you",
          "What/do/you",
          "Sure/here/you",
          "What/is/your",
          "Sure/<blank>",
          "Sure/Do",
          "Sure/Here",
          "Sure/I",
          "Yes/I",
          "Great/Ill",
          "What/about",
          "Here/are",
          "Sure/are",
          "You/are",
          "You/as",
          "I/can",
          "What/color",
          "What/do",
          "It/has",
          "I/have",
          "Sure/here",
          "Here/is",
          "It/is",
          "This/is",
          "What/is",
          "Here/it",
          "This/one",
          "You/too",
          "You/welcome",
          "Sure/what",
          "I/will",
          "I/would",
          "Here/you",
          "Great",
          "Here",
          "I",
          "It",
          "Sure",
          "This",
          "What",
          "Yes",
          "You"
         ],
         "labels": [
          "<blank>",
          "<blank>",
          "<blank>",
          "<blank>",
          "<blank>",
          "<blank>",
          "<blank>",
          "<blank>",
          "<blank>",
          "<blank>",
          "<blank>",
          "<blank>",
          "Kitchen",
          "a",
          "a",
          "about",
          "at",
          "closer",
          "few",
          "for",
          "for",
          "from",
          "from",
          "great",
          "item",
          "like",
          "look",
          "more",
          "of",
          "of",
          "of",
          "of",
          "our",
          "preference",
          "side",
          "side",
          "that",
          "that",
          "the",
          "the",
          "to",
          "to",
          "to",
          "to",
          "to",
          "to",
          "to",
          "to",
          "view",
          "view",
          "view",
          "view",
          "with",
          "with",
          "you",
          "you",
          "<blank>",
          "<blank>",
          "<blank>",
          "<blank>",
          "<blank>",
          "<blank>",
          "<blank>",
          "<blank>",
          "Have",
          "Hedon",
          "a",
          "a",
          "a",
          "added",
          "closer",
          "color",
          "couple",
          "do",
          "few",
          "from",
          "glad",
          "go",
          "go",
          "happy",
          "happy",
          "have",
          "help",
          "it",
          "it",
          "it",
          "left",
          "left",
          "looking",
          "of",
          "priced",
          "sale",
          "side",
          "think",
          "this",
          "top",
          "top",
          "top",
          "view",
          "view",
          "welcome",
          "with",
          "would",
          "you",
          "you",
          "<blank>",
          "<blank>",
          "a",
          "a",
          "a",
          "add",
          "add",
          "added",
          "are",
          "are",
          "be",
          "be",
          "been",
          "can",
          "can",
          "color",
          "go",
          "have",
          "help",
          "is",
          "is",
          "is",
          "on",
          "some",
          "the",
          "the",
          "these",
          "very",
          "welcome",
          "well",
          "would",
          "you",
          "you",
          "you",
          "you",
          "you",
          "your",
          "<blank>",
          "Do",
          "Here",
          "I",
          "I",
          "Ill",
          "about",
          "are",
          "are",
          "are",
          "as",
          "can",
          "color",
          "do",
          "has",
          "have",
          "here",
          "is",
          "is",
          "is",
          "is",
          "it",
          "one",
          "too",
          "welcome",
          "what",
          "will",
          "would",
          "you",
          "Great",
          "Here",
          "I",
          "It",
          "Sure",
          "This",
          "What",
          "Yes",
          "You"
         ],
         "name": "",
         "parents": [
          "Sure/<blank>/<blank>/<blank>",
          "You/too/<blank>/<blank>",
          "Here/you/are/<blank>",
          "Here/you/go/<blank>",
          "Here/it/is/<blank>",
          "What/about/these/<blank>",
          "You/are/welcome/<blank>",
          "You/as/well/<blank>",
          "Here/are/a/few",
          "Sure/Here/you/go",
          "Sure/here/you/go",
          "You/are/very/welcome",
          "This/is/the/Hedon",
          "You/are/welcome/Have",
          "Sure/Do/you/have",
          "What/do/you/think",
          "This/one/is/priced",
          "Sure/here/is/a",
          "Sure/here/are/a",
          "Sure/are/you/looking",
          "It/is/on/sale",
          "Here/is/a/view",
          "This/is/a/view",
          "You/welcome/have/a",
          "I/have/added/this",
          "What/color/would/you",
          "Here/is/a/closer",
          "Here/are/a/few",
          "Here/are/a/couple",
          "Here/are/a/few",
          "What/do/you/think",
          "This/is/a/view",
          "Here/are/some/of",
          "What/is/your/color",
          "Here/is/the/left",
          "This/is/the/left",
          "Yes/I/can/do",
          "I/can/help/with",
          "Here/it/is/from",
          "Here/are/some/of",
          "It/has/been/added",
          "I/would/be/glad",
          "I/will/be/happy",
          "I/would/be/happy",
          "Great/Ill/add/it",
          "I/will/add/it",
          "I/have/added/it",
          "I/have/added/this",
          "Here/is/a/side",
          "Here/is/a/top",
          "Here/is/the/top",
          "This/is/the/top",
          "Sure/I/can/help",
          "I/can/help/you",
          "Sure/I/can/help",
          "Sure/what/color/would",
          "Sure/<blank>/<blank>",
          "You/too/<blank>",
          "Here/you/are",
          "Here/you/go",
          "Here/it/is",
          "What/about/these",
          "You/are/welcome",
          "You/as/well",
          "You/are/welcome",
          "This/is/the",
          "Sure/here/are",
          "You/welcome/have",
          "Sure/here/is",
          "It/has/been",
          "Here/is/a",
          "What/is/your",
          "Here/are/a",
          "Yes/I/can",
          "Here/are/a",
          "Here/it/is",
          "I/would/be",
          "Sure/Here/you",
          "Sure/here/you",
          "I/will/be",
          "I/would/be",
          "Sure/Do/you",
          "Sure/I/can",
          "Great/Ill/add",
          "I/will/add",
          "I/have/added",
          "Here/is/the",
          "This/is/the",
          "Sure/are/you",
          "Here/are/some",
          "This/one/is",
          "It/is/on",
          "Here/is/a",
          "What/do/you",
          "I/have/added",
          "Here/is/a",
          "Here/is/the",
          "This/is/the",
          "Here/is/a",
          "This/is/a",
          "You/are/very",
          "I/can/help",
          "Sure/what/color",
          "I/can/help",
          "What/color/would",
          "Sure/<blank>",
          "You/too",
          "Here/are",
          "Here/is",
          "This/is",
          "Great/Ill",
          "I/will",
          "I/have",
          "Sure/here",
          "Here/you",
          "I/will",
          "I/would",
          "It/has",
          "Sure/I",
          "Yes/I",
          "Sure/what",
          "Here/you",
          "You/welcome",
          "I/can",
          "Sure/here",
          "Here/it",
          "This/one",
          "It/is",
          "Here/are",
          "Here/is",
          "This/is",
          "What/about",
          "You/are",
          "You/are",
          "You/as",
          "What/color",
          "Sure/Do",
          "Sure/Here",
          "Sure/are",
          "What/do",
          "Sure/here",
          "What/is",
          "Sure",
          "Sure",
          "Sure",
          "Sure",
          "Yes",
          "Great",
          "What",
          "Here",
          "Sure",
          "You",
          "You",
          "I",
          "What",
          "What",
          "It",
          "I",
          "Sure",
          "Here",
          "It",
          "This",
          "What",
          "Here",
          "This",
          "You",
          "You",
          "Sure",
          "I",
          "I",
          "Here",
          "",
          "",
          "",
          "",
          "",
          "",
          "",
          "",
          ""
         ],
         "type": "sunburst",
         "values": [
          12,
          6,
          4,
          38,
          7,
          5,
          19,
          11,
          4,
          4,
          9,
          6,
          5,
          8,
          5,
          8,
          5,
          4,
          4,
          4,
          4,
          5,
          4,
          4,
          4,
          8,
          5,
          5,
          7,
          5,
          9,
          4,
          9,
          4,
          5,
          4,
          5,
          7,
          9,
          4,
          6,
          4,
          8,
          14,
          5,
          7,
          15,
          15,
          7,
          5,
          5,
          7,
          4,
          13,
          9,
          4,
          12,
          6,
          4,
          38,
          7,
          5,
          19,
          11,
          8,
          5,
          4,
          4,
          4,
          6,
          5,
          4,
          7,
          5,
          14,
          9,
          4,
          4,
          9,
          8,
          14,
          5,
          13,
          5,
          7,
          15,
          5,
          4,
          4,
          13,
          5,
          4,
          7,
          17,
          19,
          5,
          5,
          7,
          5,
          8,
          6,
          7,
          4,
          13,
          8,
          12,
          6,
          21,
          22,
          8,
          5,
          7,
          34,
          4,
          4,
          8,
          18,
          6,
          13,
          5,
          4,
          38,
          4,
          20,
          4,
          16,
          5,
          4,
          13,
          10,
          16,
          5,
          6,
          27,
          11,
          8,
          5,
          4,
          4,
          17,
          9,
          4,
          12,
          5,
          4,
          13,
          5,
          5,
          5,
          34,
          4,
          33,
          11,
          20,
          8,
          17,
          6,
          34,
          17,
          32,
          4,
          24,
          4,
          16,
          5,
          6,
          4,
          4,
          15,
          18,
          42,
          5,
          124,
          87,
          10,
          59,
          29,
          34,
          5,
          54
         ]
        }
       ],
       "layout": {
        "autosize": true,
        "legend": {
         "tracegroupgap": 0
        },
        "margin": {
         "t": 60
        },
        "template": {
         "data": {
          "bar": [
           {
            "error_x": {
             "color": "#2a3f5f"
            },
            "error_y": {
             "color": "#2a3f5f"
            },
            "marker": {
             "line": {
              "color": "#E5ECF6",
              "width": 0.5
             }
            },
            "type": "bar"
           }
          ],
          "barpolar": [
           {
            "marker": {
             "line": {
              "color": "#E5ECF6",
              "width": 0.5
             }
            },
            "type": "barpolar"
           }
          ],
          "carpet": [
           {
            "aaxis": {
             "endlinecolor": "#2a3f5f",
             "gridcolor": "white",
             "linecolor": "white",
             "minorgridcolor": "white",
             "startlinecolor": "#2a3f5f"
            },
            "baxis": {
             "endlinecolor": "#2a3f5f",
             "gridcolor": "white",
             "linecolor": "white",
             "minorgridcolor": "white",
             "startlinecolor": "#2a3f5f"
            },
            "type": "carpet"
           }
          ],
          "choropleth": [
           {
            "colorbar": {
             "outlinewidth": 0,
             "ticks": ""
            },
            "type": "choropleth"
           }
          ],
          "contour": [
           {
            "colorbar": {
             "outlinewidth": 0,
             "ticks": ""
            },
            "colorscale": [
             [
              0,
              "#0d0887"
             ],
             [
              0.1111111111111111,
              "#46039f"
             ],
             [
              0.2222222222222222,
              "#7201a8"
             ],
             [
              0.3333333333333333,
              "#9c179e"
             ],
             [
              0.4444444444444444,
              "#bd3786"
             ],
             [
              0.5555555555555556,
              "#d8576b"
             ],
             [
              0.6666666666666666,
              "#ed7953"
             ],
             [
              0.7777777777777778,
              "#fb9f3a"
             ],
             [
              0.8888888888888888,
              "#fdca26"
             ],
             [
              1,
              "#f0f921"
             ]
            ],
            "type": "contour"
           }
          ],
          "contourcarpet": [
           {
            "colorbar": {
             "outlinewidth": 0,
             "ticks": ""
            },
            "type": "contourcarpet"
           }
          ],
          "heatmap": [
           {
            "colorbar": {
             "outlinewidth": 0,
             "ticks": ""
            },
            "colorscale": [
             [
              0,
              "#0d0887"
             ],
             [
              0.1111111111111111,
              "#46039f"
             ],
             [
              0.2222222222222222,
              "#7201a8"
             ],
             [
              0.3333333333333333,
              "#9c179e"
             ],
             [
              0.4444444444444444,
              "#bd3786"
             ],
             [
              0.5555555555555556,
              "#d8576b"
             ],
             [
              0.6666666666666666,
              "#ed7953"
             ],
             [
              0.7777777777777778,
              "#fb9f3a"
             ],
             [
              0.8888888888888888,
              "#fdca26"
             ],
             [
              1,
              "#f0f921"
             ]
            ],
            "type": "heatmap"
           }
          ],
          "heatmapgl": [
           {
            "colorbar": {
             "outlinewidth": 0,
             "ticks": ""
            },
            "colorscale": [
             [
              0,
              "#0d0887"
             ],
             [
              0.1111111111111111,
              "#46039f"
             ],
             [
              0.2222222222222222,
              "#7201a8"
             ],
             [
              0.3333333333333333,
              "#9c179e"
             ],
             [
              0.4444444444444444,
              "#bd3786"
             ],
             [
              0.5555555555555556,
              "#d8576b"
             ],
             [
              0.6666666666666666,
              "#ed7953"
             ],
             [
              0.7777777777777778,
              "#fb9f3a"
             ],
             [
              0.8888888888888888,
              "#fdca26"
             ],
             [
              1,
              "#f0f921"
             ]
            ],
            "type": "heatmapgl"
           }
          ],
          "histogram": [
           {
            "marker": {
             "colorbar": {
              "outlinewidth": 0,
              "ticks": ""
             }
            },
            "type": "histogram"
           }
          ],
          "histogram2d": [
           {
            "colorbar": {
             "outlinewidth": 0,
             "ticks": ""
            },
            "colorscale": [
             [
              0,
              "#0d0887"
             ],
             [
              0.1111111111111111,
              "#46039f"
             ],
             [
              0.2222222222222222,
              "#7201a8"
             ],
             [
              0.3333333333333333,
              "#9c179e"
             ],
             [
              0.4444444444444444,
              "#bd3786"
             ],
             [
              0.5555555555555556,
              "#d8576b"
             ],
             [
              0.6666666666666666,
              "#ed7953"
             ],
             [
              0.7777777777777778,
              "#fb9f3a"
             ],
             [
              0.8888888888888888,
              "#fdca26"
             ],
             [
              1,
              "#f0f921"
             ]
            ],
            "type": "histogram2d"
           }
          ],
          "histogram2dcontour": [
           {
            "colorbar": {
             "outlinewidth": 0,
             "ticks": ""
            },
            "colorscale": [
             [
              0,
              "#0d0887"
             ],
             [
              0.1111111111111111,
              "#46039f"
             ],
             [
              0.2222222222222222,
              "#7201a8"
             ],
             [
              0.3333333333333333,
              "#9c179e"
             ],
             [
              0.4444444444444444,
              "#bd3786"
             ],
             [
              0.5555555555555556,
              "#d8576b"
             ],
             [
              0.6666666666666666,
              "#ed7953"
             ],
             [
              0.7777777777777778,
              "#fb9f3a"
             ],
             [
              0.8888888888888888,
              "#fdca26"
             ],
             [
              1,
              "#f0f921"
             ]
            ],
            "type": "histogram2dcontour"
           }
          ],
          "mesh3d": [
           {
            "colorbar": {
             "outlinewidth": 0,
             "ticks": ""
            },
            "type": "mesh3d"
           }
          ],
          "parcoords": [
           {
            "line": {
             "colorbar": {
              "outlinewidth": 0,
              "ticks": ""
             }
            },
            "type": "parcoords"
           }
          ],
          "pie": [
           {
            "automargin": true,
            "type": "pie"
           }
          ],
          "scatter": [
           {
            "marker": {
             "colorbar": {
              "outlinewidth": 0,
              "ticks": ""
             }
            },
            "type": "scatter"
           }
          ],
          "scatter3d": [
           {
            "line": {
             "colorbar": {
              "outlinewidth": 0,
              "ticks": ""
             }
            },
            "marker": {
             "colorbar": {
              "outlinewidth": 0,
              "ticks": ""
             }
            },
            "type": "scatter3d"
           }
          ],
          "scattercarpet": [
           {
            "marker": {
             "colorbar": {
              "outlinewidth": 0,
              "ticks": ""
             }
            },
            "type": "scattercarpet"
           }
          ],
          "scattergeo": [
           {
            "marker": {
             "colorbar": {
              "outlinewidth": 0,
              "ticks": ""
             }
            },
            "type": "scattergeo"
           }
          ],
          "scattergl": [
           {
            "marker": {
             "colorbar": {
              "outlinewidth": 0,
              "ticks": ""
             }
            },
            "type": "scattergl"
           }
          ],
          "scattermapbox": [
           {
            "marker": {
             "colorbar": {
              "outlinewidth": 0,
              "ticks": ""
             }
            },
            "type": "scattermapbox"
           }
          ],
          "scatterpolar": [
           {
            "marker": {
             "colorbar": {
              "outlinewidth": 0,
              "ticks": ""
             }
            },
            "type": "scatterpolar"
           }
          ],
          "scatterpolargl": [
           {
            "marker": {
             "colorbar": {
              "outlinewidth": 0,
              "ticks": ""
             }
            },
            "type": "scatterpolargl"
           }
          ],
          "scatterternary": [
           {
            "marker": {
             "colorbar": {
              "outlinewidth": 0,
              "ticks": ""
             }
            },
            "type": "scatterternary"
           }
          ],
          "surface": [
           {
            "colorbar": {
             "outlinewidth": 0,
             "ticks": ""
            },
            "colorscale": [
             [
              0,
              "#0d0887"
             ],
             [
              0.1111111111111111,
              "#46039f"
             ],
             [
              0.2222222222222222,
              "#7201a8"
             ],
             [
              0.3333333333333333,
              "#9c179e"
             ],
             [
              0.4444444444444444,
              "#bd3786"
             ],
             [
              0.5555555555555556,
              "#d8576b"
             ],
             [
              0.6666666666666666,
              "#ed7953"
             ],
             [
              0.7777777777777778,
              "#fb9f3a"
             ],
             [
              0.8888888888888888,
              "#fdca26"
             ],
             [
              1,
              "#f0f921"
             ]
            ],
            "type": "surface"
           }
          ],
          "table": [
           {
            "cells": {
             "fill": {
              "color": "#EBF0F8"
             },
             "line": {
              "color": "white"
             }
            },
            "header": {
             "fill": {
              "color": "#C8D4E3"
             },
             "line": {
              "color": "white"
             }
            },
            "type": "table"
           }
          ]
         },
         "layout": {
          "annotationdefaults": {
           "arrowcolor": "#2a3f5f",
           "arrowhead": 0,
           "arrowwidth": 1
          },
          "coloraxis": {
           "colorbar": {
            "outlinewidth": 0,
            "ticks": ""
           }
          },
          "colorscale": {
           "diverging": [
            [
             0,
             "#8e0152"
            ],
            [
             0.1,
             "#c51b7d"
            ],
            [
             0.2,
             "#de77ae"
            ],
            [
             0.3,
             "#f1b6da"
            ],
            [
             0.4,
             "#fde0ef"
            ],
            [
             0.5,
             "#f7f7f7"
            ],
            [
             0.6,
             "#e6f5d0"
            ],
            [
             0.7,
             "#b8e186"
            ],
            [
             0.8,
             "#7fbc41"
            ],
            [
             0.9,
             "#4d9221"
            ],
            [
             1,
             "#276419"
            ]
           ],
           "sequential": [
            [
             0,
             "#0d0887"
            ],
            [
             0.1111111111111111,
             "#46039f"
            ],
            [
             0.2222222222222222,
             "#7201a8"
            ],
            [
             0.3333333333333333,
             "#9c179e"
            ],
            [
             0.4444444444444444,
             "#bd3786"
            ],
            [
             0.5555555555555556,
             "#d8576b"
            ],
            [
             0.6666666666666666,
             "#ed7953"
            ],
            [
             0.7777777777777778,
             "#fb9f3a"
            ],
            [
             0.8888888888888888,
             "#fdca26"
            ],
            [
             1,
             "#f0f921"
            ]
           ],
           "sequentialminus": [
            [
             0,
             "#0d0887"
            ],
            [
             0.1111111111111111,
             "#46039f"
            ],
            [
             0.2222222222222222,
             "#7201a8"
            ],
            [
             0.3333333333333333,
             "#9c179e"
            ],
            [
             0.4444444444444444,
             "#bd3786"
            ],
            [
             0.5555555555555556,
             "#d8576b"
            ],
            [
             0.6666666666666666,
             "#ed7953"
            ],
            [
             0.7777777777777778,
             "#fb9f3a"
            ],
            [
             0.8888888888888888,
             "#fdca26"
            ],
            [
             1,
             "#f0f921"
            ]
           ]
          },
          "colorway": [
           "#636efa",
           "#EF553B",
           "#00cc96",
           "#ab63fa",
           "#FFA15A",
           "#19d3f3",
           "#FF6692",
           "#B6E880",
           "#FF97FF",
           "#FECB52"
          ],
          "font": {
           "color": "#2a3f5f"
          },
          "geo": {
           "bgcolor": "white",
           "lakecolor": "white",
           "landcolor": "#E5ECF6",
           "showlakes": true,
           "showland": true,
           "subunitcolor": "white"
          },
          "hoverlabel": {
           "align": "left"
          },
          "hovermode": "closest",
          "mapbox": {
           "style": "light"
          },
          "paper_bgcolor": "white",
          "plot_bgcolor": "#E5ECF6",
          "polar": {
           "angularaxis": {
            "gridcolor": "white",
            "linecolor": "white",
            "ticks": ""
           },
           "bgcolor": "#E5ECF6",
           "radialaxis": {
            "gridcolor": "white",
            "linecolor": "white",
            "ticks": ""
           }
          },
          "scene": {
           "xaxis": {
            "backgroundcolor": "#E5ECF6",
            "gridcolor": "white",
            "gridwidth": 2,
            "linecolor": "white",
            "showbackground": true,
            "ticks": "",
            "zerolinecolor": "white"
           },
           "yaxis": {
            "backgroundcolor": "#E5ECF6",
            "gridcolor": "white",
            "gridwidth": 2,
            "linecolor": "white",
            "showbackground": true,
            "ticks": "",
            "zerolinecolor": "white"
           },
           "zaxis": {
            "backgroundcolor": "#E5ECF6",
            "gridcolor": "white",
            "gridwidth": 2,
            "linecolor": "white",
            "showbackground": true,
            "ticks": "",
            "zerolinecolor": "white"
           }
          },
          "shapedefaults": {
           "line": {
            "color": "#2a3f5f"
           }
          },
          "ternary": {
           "aaxis": {
            "gridcolor": "white",
            "linecolor": "white",
            "ticks": ""
           },
           "baxis": {
            "gridcolor": "white",
            "linecolor": "white",
            "ticks": ""
           },
           "bgcolor": "#E5ECF6",
           "caxis": {
            "gridcolor": "white",
            "linecolor": "white",
            "ticks": ""
           }
          },
          "title": {
           "x": 0.05
          },
          "xaxis": {
           "automargin": true,
           "gridcolor": "white",
           "linecolor": "white",
           "ticks": "",
           "title": {
            "standoff": 15
           },
           "zerolinecolor": "white",
           "zerolinewidth": 2
          },
          "yaxis": {
           "automargin": true,
           "gridcolor": "white",
           "linecolor": "white",
           "ticks": "",
           "title": {
            "standoff": 15
           },
           "zerolinecolor": "white",
           "zerolinewidth": 2
          }
         }
        }
       }
      },
      "image/png": "[encoded data removed]",
      "text/html": [
       "<div>\n",
       "        \n",
       "        \n",
       "            <div id=\"244ff550-cffd-42ca-b032-63d55741ea12\" class=\"plotly-graph-div\" style=\"height:525px; width:100%;\"></div>\n",
       "            <script type=\"text/javascript\">\n",
       "                require([\"plotly\"], function(Plotly) {\n",
       "                    window.PLOTLYENV=window.PLOTLYENV || {};\n",
       "                    \n",
       "                if (document.getElementById(\"244ff550-cffd-42ca-b032-63d55741ea12\")) {\n",
       "                    Plotly.newPlot(\n",
       "                        '244ff550-cffd-42ca-b032-63d55741ea12',\n",
       "                        [{\"branchvalues\": \"total\", \"domain\": {\"x\": [0.0, 1.0], \"y\": [0.0, 1.0]}, \"hovertemplate\": \"labels=%{label}<br>count=%{value}<br>parent=%{parent}<br>id=%{id}<extra></extra>\", \"ids\": [\"Sure/<blank>/<blank>/<blank>/<blank>\", \"You/too/<blank>/<blank>/<blank>\", \"Here/you/are/<blank>/<blank>\", \"Here/you/go/<blank>/<blank>\", \"Here/it/is/<blank>/<blank>\", \"What/about/these/<blank>/<blank>\", \"You/are/welcome/<blank>/<blank>\", \"You/as/well/<blank>/<blank>\", \"Here/are/a/few/<blank>\", \"Sure/Here/you/go/<blank>\", \"Sure/here/you/go/<blank>\", \"You/are/very/welcome/<blank>\", \"This/is/the/Hedon/Kitchen\", \"You/are/welcome/Have/a\", \"Sure/Do/you/have/a\", \"What/do/you/think/about\", \"This/one/is/priced/at\", \"Sure/here/is/a/closer\", \"Sure/here/are/a/few\", \"Sure/are/you/looking/for\", \"It/is/on/sale/for\", \"Here/is/a/view/from\", \"This/is/a/view/from\", \"You/welcome/have/a/great\", \"I/have/added/this/item\", \"What/color/would/you/like\", \"Here/is/a/closer/look\", \"Here/are/a/few/more\", \"Here/are/a/couple/of\", \"Here/are/a/few/of\", \"What/do/you/think/of\", \"This/is/a/view/of\", \"Here/are/some/of/our\", \"What/is/your/color/preference\", \"Here/is/the/left/side\", \"This/is/the/left/side\", \"Yes/I/can/do/that\", \"I/can/help/with/that\", \"Here/it/is/from/the\", \"Here/are/some/of/the\", \"It/has/been/added/to\", \"I/would/be/glad/to\", \"I/will/be/happy/to\", \"I/would/be/happy/to\", \"Great/Ill/add/it/to\", \"I/will/add/it/to\", \"I/have/added/it/to\", \"I/have/added/this/to\", \"Here/is/a/side/view\", \"Here/is/a/top/view\", \"Here/is/the/top/view\", \"This/is/the/top/view\", \"Sure/I/can/help/with\", \"I/can/help/you/with\", \"Sure/I/can/help/you\", \"Sure/what/color/would/you\", \"Sure/<blank>/<blank>/<blank>\", \"You/too/<blank>/<blank>\", \"Here/you/are/<blank>\", \"Here/you/go/<blank>\", \"Here/it/is/<blank>\", \"What/about/these/<blank>\", \"You/are/welcome/<blank>\", \"You/as/well/<blank>\", \"You/are/welcome/Have\", \"This/is/the/Hedon\", \"Sure/here/are/a\", \"You/welcome/have/a\", \"Sure/here/is/a\", \"It/has/been/added\", \"Here/is/a/closer\", \"What/is/your/color\", \"Here/are/a/couple\", \"Yes/I/can/do\", \"Here/are/a/few\", \"Here/it/is/from\", \"I/would/be/glad\", \"Sure/Here/you/go\", \"Sure/here/you/go\", \"I/will/be/happy\", \"I/would/be/happy\", \"Sure/Do/you/have\", \"Sure/I/can/help\", \"Great/Ill/add/it\", \"I/will/add/it\", \"I/have/added/it\", \"Here/is/the/left\", \"This/is/the/left\", \"Sure/are/you/looking\", \"Here/are/some/of\", \"This/one/is/priced\", \"It/is/on/sale\", \"Here/is/a/side\", \"What/do/you/think\", \"I/have/added/this\", \"Here/is/a/top\", \"Here/is/the/top\", \"This/is/the/top\", \"Here/is/a/view\", \"This/is/a/view\", \"You/are/very/welcome\", \"I/can/help/with\", \"Sure/what/color/would\", \"I/can/help/you\", \"What/color/would/you\", \"Sure/<blank>/<blank>\", \"You/too/<blank>\", \"Here/are/a\", \"Here/is/a\", \"This/is/a\", \"Great/Ill/add\", \"I/will/add\", \"I/have/added\", \"Sure/here/are\", \"Here/you/are\", \"I/will/be\", \"I/would/be\", \"It/has/been\", \"Sure/I/can\", \"Yes/I/can\", \"Sure/what/color\", \"Here/you/go\", \"You/welcome/have\", \"I/can/help\", \"Sure/here/is\", \"Here/it/is\", \"This/one/is\", \"It/is/on\", \"Here/are/some\", \"Here/is/the\", \"This/is/the\", \"What/about/these\", \"You/are/very\", \"You/are/welcome\", \"You/as/well\", \"What/color/would\", \"Sure/Do/you\", \"Sure/Here/you\", \"Sure/are/you\", \"What/do/you\", \"Sure/here/you\", \"What/is/your\", \"Sure/<blank>\", \"Sure/Do\", \"Sure/Here\", \"Sure/I\", \"Yes/I\", \"Great/Ill\", \"What/about\", \"Here/are\", \"Sure/are\", \"You/are\", \"You/as\", \"I/can\", \"What/color\", \"What/do\", \"It/has\", \"I/have\", \"Sure/here\", \"Here/is\", \"It/is\", \"This/is\", \"What/is\", \"Here/it\", \"This/one\", \"You/too\", \"You/welcome\", \"Sure/what\", \"I/will\", \"I/would\", \"Here/you\", \"Great\", \"Here\", \"I\", \"It\", \"Sure\", \"This\", \"What\", \"Yes\", \"You\"], \"labels\": [\"<blank>\", \"<blank>\", \"<blank>\", \"<blank>\", \"<blank>\", \"<blank>\", \"<blank>\", \"<blank>\", \"<blank>\", \"<blank>\", \"<blank>\", \"<blank>\", \"Kitchen\", \"a\", \"a\", \"about\", \"at\", \"closer\", \"few\", \"for\", \"for\", \"from\", \"from\", \"great\", \"item\", \"like\", \"look\", \"more\", \"of\", \"of\", \"of\", \"of\", \"our\", \"preference\", \"side\", \"side\", \"that\", \"that\", \"the\", \"the\", \"to\", \"to\", \"to\", \"to\", \"to\", \"to\", \"to\", \"to\", \"view\", \"view\", \"view\", \"view\", \"with\", \"with\", \"you\", \"you\", \"<blank>\", \"<blank>\", \"<blank>\", \"<blank>\", \"<blank>\", \"<blank>\", \"<blank>\", \"<blank>\", \"Have\", \"Hedon\", \"a\", \"a\", \"a\", \"added\", \"closer\", \"color\", \"couple\", \"do\", \"few\", \"from\", \"glad\", \"go\", \"go\", \"happy\", \"happy\", \"have\", \"help\", \"it\", \"it\", \"it\", \"left\", \"left\", \"looking\", \"of\", \"priced\", \"sale\", \"side\", \"think\", \"this\", \"top\", \"top\", \"top\", \"view\", \"view\", \"welcome\", \"with\", \"would\", \"you\", \"you\", \"<blank>\", \"<blank>\", \"a\", \"a\", \"a\", \"add\", \"add\", \"added\", \"are\", \"are\", \"be\", \"be\", \"been\", \"can\", \"can\", \"color\", \"go\", \"have\", \"help\", \"is\", \"is\", \"is\", \"on\", \"some\", \"the\", \"the\", \"these\", \"very\", \"welcome\", \"well\", \"would\", \"you\", \"you\", \"you\", \"you\", \"you\", \"your\", \"<blank>\", \"Do\", \"Here\", \"I\", \"I\", \"Ill\", \"about\", \"are\", \"are\", \"are\", \"as\", \"can\", \"color\", \"do\", \"has\", \"have\", \"here\", \"is\", \"is\", \"is\", \"is\", \"it\", \"one\", \"too\", \"welcome\", \"what\", \"will\", \"would\", \"you\", \"Great\", \"Here\", \"I\", \"It\", \"Sure\", \"This\", \"What\", \"Yes\", \"You\"], \"name\": \"\", \"parents\": [\"Sure/<blank>/<blank>/<blank>\", \"You/too/<blank>/<blank>\", \"Here/you/are/<blank>\", \"Here/you/go/<blank>\", \"Here/it/is/<blank>\", \"What/about/these/<blank>\", \"You/are/welcome/<blank>\", \"You/as/well/<blank>\", \"Here/are/a/few\", \"Sure/Here/you/go\", \"Sure/here/you/go\", \"You/are/very/welcome\", \"This/is/the/Hedon\", \"You/are/welcome/Have\", \"Sure/Do/you/have\", \"What/do/you/think\", \"This/one/is/priced\", \"Sure/here/is/a\", \"Sure/here/are/a\", \"Sure/are/you/looking\", \"It/is/on/sale\", \"Here/is/a/view\", \"This/is/a/view\", \"You/welcome/have/a\", \"I/have/added/this\", \"What/color/would/you\", \"Here/is/a/closer\", \"Here/are/a/few\", \"Here/are/a/couple\", \"Here/are/a/few\", \"What/do/you/think\", \"This/is/a/view\", \"Here/are/some/of\", \"What/is/your/color\", \"Here/is/the/left\", \"This/is/the/left\", \"Yes/I/can/do\", \"I/can/help/with\", \"Here/it/is/from\", \"Here/are/some/of\", \"It/has/been/added\", \"I/would/be/glad\", \"I/will/be/happy\", \"I/would/be/happy\", \"Great/Ill/add/it\", \"I/will/add/it\", \"I/have/added/it\", \"I/have/added/this\", \"Here/is/a/side\", \"Here/is/a/top\", \"Here/is/the/top\", \"This/is/the/top\", \"Sure/I/can/help\", \"I/can/help/you\", \"Sure/I/can/help\", \"Sure/what/color/would\", \"Sure/<blank>/<blank>\", \"You/too/<blank>\", \"Here/you/are\", \"Here/you/go\", \"Here/it/is\", \"What/about/these\", \"You/are/welcome\", \"You/as/well\", \"You/are/welcome\", \"This/is/the\", \"Sure/here/are\", \"You/welcome/have\", \"Sure/here/is\", \"It/has/been\", \"Here/is/a\", \"What/is/your\", \"Here/are/a\", \"Yes/I/can\", \"Here/are/a\", \"Here/it/is\", \"I/would/be\", \"Sure/Here/you\", \"Sure/here/you\", \"I/will/be\", \"I/would/be\", \"Sure/Do/you\", \"Sure/I/can\", \"Great/Ill/add\", \"I/will/add\", \"I/have/added\", \"Here/is/the\", \"This/is/the\", \"Sure/are/you\", \"Here/are/some\", \"This/one/is\", \"It/is/on\", \"Here/is/a\", \"What/do/you\", \"I/have/added\", \"Here/is/a\", \"Here/is/the\", \"This/is/the\", \"Here/is/a\", \"This/is/a\", \"You/are/very\", \"I/can/help\", \"Sure/what/color\", \"I/can/help\", \"What/color/would\", \"Sure/<blank>\", \"You/too\", \"Here/are\", \"Here/is\", \"This/is\", \"Great/Ill\", \"I/will\", \"I/have\", \"Sure/here\", \"Here/you\", \"I/will\", \"I/would\", \"It/has\", \"Sure/I\", \"Yes/I\", \"Sure/what\", \"Here/you\", \"You/welcome\", \"I/can\", \"Sure/here\", \"Here/it\", \"This/one\", \"It/is\", \"Here/are\", \"Here/is\", \"This/is\", \"What/about\", \"You/are\", \"You/are\", \"You/as\", \"What/color\", \"Sure/Do\", \"Sure/Here\", \"Sure/are\", \"What/do\", \"Sure/here\", \"What/is\", \"Sure\", \"Sure\", \"Sure\", \"Sure\", \"Yes\", \"Great\", \"What\", \"Here\", \"Sure\", \"You\", \"You\", \"I\", \"What\", \"What\", \"It\", \"I\", \"Sure\", \"Here\", \"It\", \"This\", \"What\", \"Here\", \"This\", \"You\", \"You\", \"Sure\", \"I\", \"I\", \"Here\", \"\", \"\", \"\", \"\", \"\", \"\", \"\", \"\", \"\"], \"type\": \"sunburst\", \"values\": [12, 6, 4, 38, 7, 5, 19, 11, 4, 4, 9, 6, 5, 8, 5, 8, 5, 4, 4, 4, 4, 5, 4, 4, 4, 8, 5, 5, 7, 5, 9, 4, 9, 4, 5, 4, 5, 7, 9, 4, 6, 4, 8, 14, 5, 7, 15, 15, 7, 5, 5, 7, 4, 13, 9, 4, 12, 6, 4, 38, 7, 5, 19, 11, 8, 5, 4, 4, 4, 6, 5, 4, 7, 5, 14, 9, 4, 4, 9, 8, 14, 5, 13, 5, 7, 15, 5, 4, 4, 13, 5, 4, 7, 17, 19, 5, 5, 7, 5, 8, 6, 7, 4, 13, 8, 12, 6, 21, 22, 8, 5, 7, 34, 4, 4, 8, 18, 6, 13, 5, 4, 38, 4, 20, 4, 16, 5, 4, 13, 10, 16, 5, 6, 27, 11, 8, 5, 4, 4, 17, 9, 4, 12, 5, 4, 13, 5, 5, 5, 34, 4, 33, 11, 20, 8, 17, 6, 34, 17, 32, 4, 24, 4, 16, 5, 6, 4, 4, 15, 18, 42, 5, 124, 87, 10, 59, 29, 34, 5, 54]}],\n",
       "                        {\"legend\": {\"tracegroupgap\": 0}, \"margin\": {\"t\": 60}, \"template\": {\"data\": {\"bar\": [{\"error_x\": {\"color\": \"#2a3f5f\"}, \"error_y\": {\"color\": \"#2a3f5f\"}, \"marker\": {\"line\": {\"color\": \"#E5ECF6\", \"width\": 0.5}}, \"type\": \"bar\"}], \"barpolar\": [{\"marker\": {\"line\": {\"color\": \"#E5ECF6\", \"width\": 0.5}}, \"type\": \"barpolar\"}], \"carpet\": [{\"aaxis\": {\"endlinecolor\": \"#2a3f5f\", \"gridcolor\": \"white\", \"linecolor\": \"white\", \"minorgridcolor\": \"white\", \"startlinecolor\": \"#2a3f5f\"}, \"baxis\": {\"endlinecolor\": \"#2a3f5f\", \"gridcolor\": \"white\", \"linecolor\": \"white\", \"minorgridcolor\": \"white\", \"startlinecolor\": \"#2a3f5f\"}, \"type\": \"carpet\"}], \"choropleth\": [{\"colorbar\": {\"outlinewidth\": 0, \"ticks\": \"\"}, \"type\": \"choropleth\"}], \"contour\": [{\"colorbar\": {\"outlinewidth\": 0, \"ticks\": \"\"}, \"colorscale\": [[0.0, \"#0d0887\"], [0.1111111111111111, \"#46039f\"], [0.2222222222222222, \"#7201a8\"], [0.3333333333333333, \"#9c179e\"], [0.4444444444444444, \"#bd3786\"], [0.5555555555555556, \"#d8576b\"], [0.6666666666666666, \"#ed7953\"], [0.7777777777777778, \"#fb9f3a\"], [0.8888888888888888, \"#fdca26\"], [1.0, \"#f0f921\"]], \"type\": \"contour\"}], \"contourcarpet\": [{\"colorbar\": {\"outlinewidth\": 0, \"ticks\": \"\"}, \"type\": \"contourcarpet\"}], \"heatmap\": [{\"colorbar\": {\"outlinewidth\": 0, \"ticks\": \"\"}, \"colorscale\": [[0.0, \"#0d0887\"], [0.1111111111111111, \"#46039f\"], [0.2222222222222222, \"#7201a8\"], [0.3333333333333333, \"#9c179e\"], [0.4444444444444444, \"#bd3786\"], [0.5555555555555556, \"#d8576b\"], [0.6666666666666666, \"#ed7953\"], [0.7777777777777778, \"#fb9f3a\"], [0.8888888888888888, \"#fdca26\"], [1.0, \"#f0f921\"]], \"type\": \"heatmap\"}], \"heatmapgl\": [{\"colorbar\": {\"outlinewidth\": 0, \"ticks\": \"\"}, \"colorscale\": [[0.0, \"#0d0887\"], [0.1111111111111111, \"#46039f\"], [0.2222222222222222, \"#7201a8\"], [0.3333333333333333, \"#9c179e\"], [0.4444444444444444, \"#bd3786\"], [0.5555555555555556, \"#d8576b\"], [0.6666666666666666, \"#ed7953\"], [0.7777777777777778, \"#fb9f3a\"], [0.8888888888888888, \"#fdca26\"], [1.0, \"#f0f921\"]], \"type\": \"heatmapgl\"}], \"histogram\": [{\"marker\": {\"colorbar\": {\"outlinewidth\": 0, \"ticks\": \"\"}}, \"type\": \"histogram\"}], \"histogram2d\": [{\"colorbar\": {\"outlinewidth\": 0, \"ticks\": \"\"}, \"colorscale\": [[0.0, \"#0d0887\"], [0.1111111111111111, \"#46039f\"], [0.2222222222222222, \"#7201a8\"], [0.3333333333333333, \"#9c179e\"], [0.4444444444444444, \"#bd3786\"], [0.5555555555555556, \"#d8576b\"], [0.6666666666666666, \"#ed7953\"], [0.7777777777777778, \"#fb9f3a\"], [0.8888888888888888, \"#fdca26\"], [1.0, \"#f0f921\"]], \"type\": \"histogram2d\"}], \"histogram2dcontour\": [{\"colorbar\": {\"outlinewidth\": 0, \"ticks\": \"\"}, \"colorscale\": [[0.0, \"#0d0887\"], [0.1111111111111111, \"#46039f\"], [0.2222222222222222, \"#7201a8\"], [0.3333333333333333, \"#9c179e\"], [0.4444444444444444, \"#bd3786\"], [0.5555555555555556, \"#d8576b\"], [0.6666666666666666, \"#ed7953\"], [0.7777777777777778, \"#fb9f3a\"], [0.8888888888888888, \"#fdca26\"], [1.0, \"#f0f921\"]], \"type\": \"histogram2dcontour\"}], \"mesh3d\": [{\"colorbar\": {\"outlinewidth\": 0, \"ticks\": \"\"}, \"type\": \"mesh3d\"}], \"parcoords\": [{\"line\": {\"colorbar\": {\"outlinewidth\": 0, \"ticks\": \"\"}}, \"type\": \"parcoords\"}], \"pie\": [{\"automargin\": true, \"type\": \"pie\"}], \"scatter\": [{\"marker\": {\"colorbar\": {\"outlinewidth\": 0, \"ticks\": \"\"}}, \"type\": \"scatter\"}], \"scatter3d\": [{\"line\": {\"colorbar\": {\"outlinewidth\": 0, \"ticks\": \"\"}}, \"marker\": {\"colorbar\": {\"outlinewidth\": 0, \"ticks\": \"\"}}, \"type\": \"scatter3d\"}], \"scattercarpet\": [{\"marker\": {\"colorbar\": {\"outlinewidth\": 0, \"ticks\": \"\"}}, \"type\": \"scattercarpet\"}], \"scattergeo\": [{\"marker\": {\"colorbar\": {\"outlinewidth\": 0, \"ticks\": \"\"}}, \"type\": \"scattergeo\"}], \"scattergl\": [{\"marker\": {\"colorbar\": {\"outlinewidth\": 0, \"ticks\": \"\"}}, \"type\": \"scattergl\"}], \"scattermapbox\": [{\"marker\": {\"colorbar\": {\"outlinewidth\": 0, \"ticks\": \"\"}}, \"type\": \"scattermapbox\"}], \"scatterpolar\": [{\"marker\": {\"colorbar\": {\"outlinewidth\": 0, \"ticks\": \"\"}}, \"type\": \"scatterpolar\"}], \"scatterpolargl\": [{\"marker\": {\"colorbar\": {\"outlinewidth\": 0, \"ticks\": \"\"}}, \"type\": \"scatterpolargl\"}], \"scatterternary\": [{\"marker\": {\"colorbar\": {\"outlinewidth\": 0, \"ticks\": \"\"}}, \"type\": \"scatterternary\"}], \"surface\": [{\"colorbar\": {\"outlinewidth\": 0, \"ticks\": \"\"}, \"colorscale\": [[0.0, \"#0d0887\"], [0.1111111111111111, \"#46039f\"], [0.2222222222222222, \"#7201a8\"], [0.3333333333333333, \"#9c179e\"], [0.4444444444444444, \"#bd3786\"], [0.5555555555555556, \"#d8576b\"], [0.6666666666666666, \"#ed7953\"], [0.7777777777777778, \"#fb9f3a\"], [0.8888888888888888, \"#fdca26\"], [1.0, \"#f0f921\"]], \"type\": \"surface\"}], \"table\": [{\"cells\": {\"fill\": {\"color\": \"#EBF0F8\"}, \"line\": {\"color\": \"white\"}}, \"header\": {\"fill\": {\"color\": \"#C8D4E3\"}, \"line\": {\"color\": \"white\"}}, \"type\": \"table\"}]}, \"layout\": {\"annotationdefaults\": {\"arrowcolor\": \"#2a3f5f\", \"arrowhead\": 0, \"arrowwidth\": 1}, \"coloraxis\": {\"colorbar\": {\"outlinewidth\": 0, \"ticks\": \"\"}}, \"colorscale\": {\"diverging\": [[0, \"#8e0152\"], [0.1, \"#c51b7d\"], [0.2, \"#de77ae\"], [0.3, \"#f1b6da\"], [0.4, \"#fde0ef\"], [0.5, \"#f7f7f7\"], [0.6, \"#e6f5d0\"], [0.7, \"#b8e186\"], [0.8, \"#7fbc41\"], [0.9, \"#4d9221\"], [1, \"#276419\"]], \"sequential\": [[0.0, \"#0d0887\"], [0.1111111111111111, \"#46039f\"], [0.2222222222222222, \"#7201a8\"], [0.3333333333333333, \"#9c179e\"], [0.4444444444444444, \"#bd3786\"], [0.5555555555555556, \"#d8576b\"], [0.6666666666666666, \"#ed7953\"], [0.7777777777777778, \"#fb9f3a\"], [0.8888888888888888, \"#fdca26\"], [1.0, \"#f0f921\"]], \"sequentialminus\": [[0.0, \"#0d0887\"], [0.1111111111111111, \"#46039f\"], [0.2222222222222222, \"#7201a8\"], [0.3333333333333333, \"#9c179e\"], [0.4444444444444444, \"#bd3786\"], [0.5555555555555556, \"#d8576b\"], [0.6666666666666666, \"#ed7953\"], [0.7777777777777778, \"#fb9f3a\"], [0.8888888888888888, \"#fdca26\"], [1.0, \"#f0f921\"]]}, \"colorway\": [\"#636efa\", \"#EF553B\", \"#00cc96\", \"#ab63fa\", \"#FFA15A\", \"#19d3f3\", \"#FF6692\", \"#B6E880\", \"#FF97FF\", \"#FECB52\"], \"font\": {\"color\": \"#2a3f5f\"}, \"geo\": {\"bgcolor\": \"white\", \"lakecolor\": \"white\", \"landcolor\": \"#E5ECF6\", \"showlakes\": true, \"showland\": true, \"subunitcolor\": \"white\"}, \"hoverlabel\": {\"align\": \"left\"}, \"hovermode\": \"closest\", \"mapbox\": {\"style\": \"light\"}, \"paper_bgcolor\": \"white\", \"plot_bgcolor\": \"#E5ECF6\", \"polar\": {\"angularaxis\": {\"gridcolor\": \"white\", \"linecolor\": \"white\", \"ticks\": \"\"}, \"bgcolor\": \"#E5ECF6\", \"radialaxis\": {\"gridcolor\": \"white\", \"linecolor\": \"white\", \"ticks\": \"\"}}, \"scene\": {\"xaxis\": {\"backgroundcolor\": \"#E5ECF6\", \"gridcolor\": \"white\", \"gridwidth\": 2, \"linecolor\": \"white\", \"showbackground\": true, \"ticks\": \"\", \"zerolinecolor\": \"white\"}, \"yaxis\": {\"backgroundcolor\": \"#E5ECF6\", \"gridcolor\": \"white\", \"gridwidth\": 2, \"linecolor\": \"white\", \"showbackground\": true, \"ticks\": \"\", \"zerolinecolor\": \"white\"}, \"zaxis\": {\"backgroundcolor\": \"#E5ECF6\", \"gridcolor\": \"white\", \"gridwidth\": 2, \"linecolor\": \"white\", \"showbackground\": true, \"ticks\": \"\", \"zerolinecolor\": \"white\"}}, \"shapedefaults\": {\"line\": {\"color\": \"#2a3f5f\"}}, \"ternary\": {\"aaxis\": {\"gridcolor\": \"white\", \"linecolor\": \"white\", \"ticks\": \"\"}, \"baxis\": {\"gridcolor\": \"white\", \"linecolor\": \"white\", \"ticks\": \"\"}, \"bgcolor\": \"#E5ECF6\", \"caxis\": {\"gridcolor\": \"white\", \"linecolor\": \"white\", \"ticks\": \"\"}}, \"title\": {\"x\": 0.05}, \"xaxis\": {\"automargin\": true, \"gridcolor\": \"white\", \"linecolor\": \"white\", \"ticks\": \"\", \"title\": {\"standoff\": 15}, \"zerolinecolor\": \"white\", \"zerolinewidth\": 2}, \"yaxis\": {\"automargin\": true, \"gridcolor\": \"white\", \"linecolor\": \"white\", \"ticks\": \"\", \"title\": {\"standoff\": 15}, \"zerolinecolor\": \"white\", \"zerolinewidth\": 2}}}},\n",
       "                        {\"responsive\": true}\n",
       "                    ).then(function(){\n",
       "                            \n",
       "var gd = document.getElementById('244ff550-cffd-42ca-b032-63d55741ea12');\n",
       "var x = new MutationObserver(function (mutations, observer) {{\n",
       "        var display = window.getComputedStyle(gd).display;\n",
       "        if (!display || display === 'none') {{\n",
       "            console.log([gd, 'removed!']);\n",
       "            Plotly.purge(gd);\n",
       "            observer.disconnect();\n",
       "        }}\n",
       "}});\n",
       "\n",
       "// Listen for the removal of the full notebook cells\n",
       "var notebookContainer = gd.closest('#notebook-container');\n",
       "if (notebookContainer) {{\n",
       "    x.observe(notebookContainer, {childList: true});\n",
       "}}\n",
       "\n",
       "// Listen for the clearing of the current output cell\n",
       "var outputEl = gd.closest('.output');\n",
       "if (outputEl) {{\n",
       "    x.observe(outputEl, {childList: true});\n",
       "}}\n",
       "\n",
       "                        })\n",
       "                };\n",
       "                });\n",
       "            </script>\n",
       "        </div>"
      ]
     },
     "metadata": {},
     "output_type": "display_data"
    }
   ],
   "source": [
    "plot_sentence_sunburst(sys_turns, 5,threshold_first_level=10 ,min_last_level_count=4, filepath='a.html')"
   ]
  },
  {
   "cell_type": "code",
   "execution_count": 10,
   "metadata": {},
   "outputs": [
    {
     "data": {
      "application/vnd.plotly.v1+json": {
       "config": {
        "plotlyServerURL": "https://plot.ly"
       },
       "data": [
        {
         "branchvalues": "total",
         "domain": {
          "x": [
           0,
           1
          ],
          "y": [
           0,
           1
          ]
         },
         "hovertemplate": "labels=%{label}<br>count=%{value}<br>parent=%{parent}<br>id=%{id}<extra></extra>",
         "ids": [
          "We/apologize/for/the/inconvenience/",
          "Sure/<blank>/<blank>/<blank>/<blank>/<blank>",
          "sure/<blank>/<blank>/<blank>/<blank>/<blank>",
          "My/pleasure/<blank>/<blank>/<blank>/<blank>",
          "No/problem/<blank>/<blank>/<blank>/<blank>",
          "You/too/<blank>/<blank>/<blank>/<blank>",
          "Your/welcome/<blank>/<blank>/<blank>/<blank>",
          "Youre/welcome/<blank>/<blank>/<blank>/<blank>",
          "your/welcome/<blank>/<blank>/<blank>/<blank>",
          "Thank/you/<blank>/<blank>/<blank>/<blank>",
          "Here/you/are/<blank>/<blank>/<blank>",
          "Here/you/go/<blank>/<blank>/<blank>",
          "here/you/go/<blank>/<blank>/<blank>",
          "Here/it/is/<blank>/<blank>/<blank>",
          "How/about/these/<blank>/<blank>/<blank>",
          "What/about/these/<blank>/<blank>/<blank>",
          "How/are/these/<blank>/<blank>/<blank>",
          "You/are/welcome/<blank>/<blank>/<blank>",
          "Youre/very/welcome/<blank>/<blank>/<blank>",
          "You/as/well/<blank>/<blank>/<blank>",
          "Have/a/good/day/<blank>/<blank>",
          "Have/a/great/day/<blank>/<blank>",
          "Have/a/good/evening/<blank>/<blank>",
          "Here/are/a/few/<blank>/<blank>",
          "Sure/Here/you/go/<blank>/<blank>",
          "Sure/here/you/go/<blank>/<blank>",
          "sure/here/you/go/<blank>/<blank>",
          "How/about/this/one/<blank>/<blank>",
          "How/is/this/one/<blank>/<blank>",
          "Hello/Any/color/preferences/<blank>/<blank>",
          "You/are/very/welcome/<blank>/<blank>",
          "What/is/your/color/preference/<blank>",
          "Here/is/a/side/view/<blank>",
          "This/is/the/top/view/<blank>",
          "Added/to/cart/Anything/else/I",
          "This/is/the/Hedon/Kitchen/Island",
          "I/would/be/happy/to/assist",
          "Based/on/your/request/I/can",
          "Ill/add/it/to/your/cart",
          "Ive/added/it/to/your/cart",
          "Youre/welcome/Have/a/great/day",
          "Sure/I/can/help/you/find",
          "Yes/I/can/do/that/for",
          "I/would/be/happy/to/help",
          "Hello/I/would/love/to/help",
          "Sure/what/color/would/you/like",
          "Here/are/a/few/of/our",
          "Hi/Do/you/have/a/particular",
          "Please/look/at/the/shared/pics",
          "Here/it/is/from/the/side",
          "I/can/help/you/with/that",
          "Here/is/a/view/from/the",
          "This/is/a/view/from/the",
          "This/is/a/view/of/the",
          "Do/you/like/any/of/these",
          "What/do/you/think/of/these",
          "What/do/you/think/about/this",
          "I/have/added/this/item/to",
          "Thank/you/for/shopping/with/us",
          "Hi/I/can/help/you/with",
          "Sure/I/can/help/you/with",
          "Id/be/happy/to/help/you",
          "It/has/been/added/to/your",
          "Great/Ill/add/it/to/your",
          "I/will/add/it/to/your",
          "I/have/added/it/to/your",
          "I/have/added/this/to/your",
          "Sure/<blank>/<blank>/<blank>/<blank>",
          "sure/<blank>/<blank>/<blank>/<blank>",
          "My/pleasure/<blank>/<blank>/<blank>",
          "No/problem/<blank>/<blank>/<blank>",
          "You/too/<blank>/<blank>/<blank>",
          "Your/welcome/<blank>/<blank>/<blank>",
          "Youre/welcome/<blank>/<blank>/<blank>",
          "your/welcome/<blank>/<blank>/<blank>",
          "Thank/you/<blank>/<blank>/<blank>",
          "Here/you/are/<blank>/<blank>",
          "Here/you/go/<blank>/<blank>",
          "here/you/go/<blank>/<blank>",
          "Here/it/is/<blank>/<blank>",
          "How/about/these/<blank>/<blank>",
          "What/about/these/<blank>/<blank>",
          "How/are/these/<blank>/<blank>",
          "You/are/welcome/<blank>/<blank>",
          "Youre/very/welcome/<blank>/<blank>",
          "You/as/well/<blank>/<blank>",
          "Have/a/good/day/<blank>",
          "Have/a/great/day/<blank>",
          "Have/a/good/evening/<blank>",
          "Here/are/a/few/<blank>",
          "Sure/Here/you/go/<blank>",
          "Sure/here/you/go/<blank>",
          "sure/here/you/go/<blank>",
          "How/about/this/one/<blank>",
          "How/is/this/one/<blank>",
          "Hello/Any/color/preferences/<blank>",
          "You/are/very/welcome/<blank>",
          "Based/on/your/request/I",
          "This/is/the/Hedon/Kitchen",
          "Hi/Do/you/have/a",
          "What/do/you/think/about",
          "Added/to/cart/Anything/else",
          "Here/is/a/view/from",
          "This/is/a/view/from",
          "Youre/welcome/Have/a/great",
          "Id/be/happy/to/help",
          "We/apologize/for/the/inconvenience",
          "I/have/added/this/item",
          "Do/you/like/any/of",
          "Here/are/a/few/of",
          "What/do/you/think/of",
          "This/is/a/view/of",
          "What/is/your/color/preference",
          "Please/look/at/the/shared",
          "Yes/I/can/do/that",
          "Here/it/is/from/the",
          "It/has/been/added/to",
          "I/would/be/happy/to",
          "Great/Ill/add/it/to",
          "I/will/add/it/to",
          "I/have/added/it/to",
          "Hello/I/would/love/to",
          "I/have/added/this/to",
          "Here/is/a/side/view",
          "This/is/the/top/view",
          "Thank/you/for/shopping/with",
          "I/can/help/you/with",
          "Hi/I/can/help/you",
          "Sure/I/can/help/you",
          "Sure/what/color/would/you",
          "Ill/add/it/to/your",
          "Ive/added/it/to/your",
          "Sure/<blank>/<blank>/<blank>",
          "sure/<blank>/<blank>/<blank>",
          "My/pleasure/<blank>/<blank>",
          "No/problem/<blank>/<blank>",
          "You/too/<blank>/<blank>",
          "Your/welcome/<blank>/<blank>",
          "Youre/welcome/<blank>/<blank>",
          "your/welcome/<blank>/<blank>",
          "Thank/you/<blank>/<blank>",
          "Here/you/are/<blank>",
          "Here/you/go/<blank>",
          "here/you/go/<blank>",
          "Here/it/is/<blank>",
          "How/about/these/<blank>",
          "What/about/these/<blank>",
          "How/are/these/<blank>",
          "You/are/welcome/<blank>",
          "Youre/very/welcome/<blank>",
          "You/as/well/<blank>",
          "Added/to/cart/Anything",
          "This/is/the/Hedon",
          "Youre/welcome/Have/a",
          "It/has/been/added",
          "Do/you/like/any",
          "What/is/your/color",
          "Have/a/good/day",
          "Have/a/great/day",
          "Yes/I/can/do",
          "Have/a/good/evening",
          "Here/are/a/few",
          "Here/it/is/from",
          "Sure/Here/you/go",
          "Sure/here/you/go",
          "sure/here/you/go",
          "I/would/be/happy",
          "Hi/Do/you/have",
          "Hi/I/can/help",
          "Sure/I/can/help",
          "Great/Ill/add/it",
          "I/will/add/it",
          "I/have/added/it",
          "Hello/I/would/love",
          "How/about/this/one",
          "How/is/this/one",
          "Hello/Any/color/preferences",
          "Based/on/your/request",
          "Thank/you/for/shopping",
          "Here/is/a/side",
          "Please/look/at/the",
          "We/apologize/for/the",
          "What/do/you/think",
          "I/have/added/this",
          "Id/be/happy/to",
          "Ill/add/it/to",
          "Ive/added/it/to",
          "This/is/the/top",
          "Here/is/a/view",
          "This/is/a/view",
          "You/are/very/welcome",
          "Sure/what/color/would",
          "I/can/help/you",
          "Sure/<blank>/<blank>",
          "sure/<blank>/<blank>",
          "My/pleasure/<blank>",
          "No/problem/<blank>",
          "You/too/<blank>",
          "Your/welcome/<blank>",
          "Youre/welcome/<blank>",
          "your/welcome/<blank>",
          "Thank/you/<blank>",
          "Youre/welcome/Have",
          "Here/are/a",
          "Here/is/a",
          "This/is/a",
          "Great/Ill/add",
          "I/will/add",
          "I/have/added",
          "Here/you/are",
          "Please/look/at",
          "I/would/be",
          "It/has/been",
          "Hi/I/can",
          "Sure/I/can",
          "Yes/I/can",
          "Added/to/cart",
          "Hello/Any/color",
          "Sure/what/color",
          "We/apologize/for",
          "Thank/you/for",
          "Here/you/go",
          "here/you/go",
          "Have/a/good",
          "Have/a/great",
          "Id/be/happy",
          "I/can/help",
          "Here/it/is",
          "Ill/add/it",
          "Ive/added/it",
          "Do/you/like",
          "This/is/the",
          "How/about/these",
          "What/about/these",
          "How/are/these",
          "How/about/this",
          "How/is/this",
          "You/are/very",
          "You/are/welcome",
          "Youre/very/welcome",
          "You/as/well",
          "Hello/I/would",
          "Hi/Do/you",
          "Sure/Here/you",
          "What/do/you",
          "Sure/here/you",
          "sure/here/you",
          "What/is/your",
          "Based/on/your",
          "Sure/<blank>",
          "sure/<blank>",
          "Hello/Any",
          "Hi/Do",
          "Sure/Here",
          "Hello/I",
          "Hi/I",
          "Sure/I",
          "Yes/I",
          "Great/Ill",
          "Have/a",
          "How/about",
          "What/about",
          "Ill/add",
          "Ive/added",
          "We/apologize",
          "Here/are",
          "How/are",
          "You/are",
          "You/as",
          "Id/be",
          "I/can",
          "What/do",
          "It/has",
          "I/have",
          "Sure/here",
          "sure/here",
          "Here/is",
          "How/is",
          "This/is",
          "What/is",
          "Here/it",
          "Please/look",
          "Based/on",
          "My/pleasure",
          "No/problem",
          "Added/to",
          "You/too",
          "Youre/very",
          "Your/welcome",
          "Youre/welcome",
          "your/welcome",
          "Sure/what",
          "I/will",
          "I/would",
          "Do/you",
          "Here/you",
          "Thank/you",
          "here/you",
          "Added",
          "Based",
          "Do",
          "Great",
          "Have",
          "Hello",
          "Here",
          "Hi",
          "How",
          "I",
          "Id",
          "Ill",
          "It",
          "Ive",
          "My",
          "No",
          "Please",
          "Sure",
          "Thank",
          "This",
          "We",
          "What",
          "Yes",
          "You",
          "Your",
          "Youre",
          "here",
          "sure",
          "your"
         ],
         "labels": [
          "",
          "<blank>",
          "<blank>",
          "<blank>",
          "<blank>",
          "<blank>",
          "<blank>",
          "<blank>",
          "<blank>",
          "<blank>",
          "<blank>",
          "<blank>",
          "<blank>",
          "<blank>",
          "<blank>",
          "<blank>",
          "<blank>",
          "<blank>",
          "<blank>",
          "<blank>",
          "<blank>",
          "<blank>",
          "<blank>",
          "<blank>",
          "<blank>",
          "<blank>",
          "<blank>",
          "<blank>",
          "<blank>",
          "<blank>",
          "<blank>",
          "<blank>",
          "<blank>",
          "<blank>",
          "I",
          "Island",
          "assist",
          "can",
          "cart",
          "cart",
          "day",
          "find",
          "for",
          "help",
          "help",
          "like",
          "our",
          "particular",
          "pics",
          "side",
          "that",
          "the",
          "the",
          "the",
          "these",
          "these",
          "this",
          "to",
          "us",
          "with",
          "with",
          "you",
          "your",
          "your",
          "your",
          "your",
          "your",
          "<blank>",
          "<blank>",
          "<blank>",
          "<blank>",
          "<blank>",
          "<blank>",
          "<blank>",
          "<blank>",
          "<blank>",
          "<blank>",
          "<blank>",
          "<blank>",
          "<blank>",
          "<blank>",
          "<blank>",
          "<blank>",
          "<blank>",
          "<blank>",
          "<blank>",
          "<blank>",
          "<blank>",
          "<blank>",
          "<blank>",
          "<blank>",
          "<blank>",
          "<blank>",
          "<blank>",
          "<blank>",
          "<blank>",
          "<blank>",
          "I",
          "Kitchen",
          "a",
          "about",
          "else",
          "from",
          "from",
          "great",
          "help",
          "inconvenience",
          "item",
          "of",
          "of",
          "of",
          "of",
          "preference",
          "shared",
          "that",
          "the",
          "to",
          "to",
          "to",
          "to",
          "to",
          "to",
          "to",
          "view",
          "view",
          "with",
          "with",
          "you",
          "you",
          "you",
          "your",
          "your",
          "<blank>",
          "<blank>",
          "<blank>",
          "<blank>",
          "<blank>",
          "<blank>",
          "<blank>",
          "<blank>",
          "<blank>",
          "<blank>",
          "<blank>",
          "<blank>",
          "<blank>",
          "<blank>",
          "<blank>",
          "<blank>",
          "<blank>",
          "<blank>",
          "<blank>",
          "Anything",
          "Hedon",
          "a",
          "added",
          "any",
          "color",
          "day",
          "day",
          "do",
          "evening",
          "few",
          "from",
          "go",
          "go",
          "go",
          "happy",
          "have",
          "help",
          "help",
          "it",
          "it",
          "it",
          "love",
          "one",
          "one",
          "preferences",
          "request",
          "shopping",
          "side",
          "the",
          "the",
          "think",
          "this",
          "to",
          "to",
          "to",
          "top",
          "view",
          "view",
          "welcome",
          "would",
          "you",
          "<blank>",
          "<blank>",
          "<blank>",
          "<blank>",
          "<blank>",
          "<blank>",
          "<blank>",
          "<blank>",
          "<blank>",
          "Have",
          "a",
          "a",
          "a",
          "add",
          "add",
          "added",
          "are",
          "at",
          "be",
          "been",
          "can",
          "can",
          "can",
          "cart",
          "color",
          "color",
          "for",
          "for",
          "go",
          "go",
          "good",
          "great",
          "happy",
          "help",
          "is",
          "it",
          "it",
          "like",
          "the",
          "these",
          "these",
          "these",
          "this",
          "this",
          "very",
          "welcome",
          "welcome",
          "well",
          "would",
          "you",
          "you",
          "you",
          "you",
          "you",
          "your",
          "your",
          "<blank>",
          "<blank>",
          "Any",
          "Do",
          "Here",
          "I",
          "I",
          "I",
          "I",
          "Ill",
          "a",
          "about",
          "about",
          "add",
          "added",
          "apologize",
          "are",
          "are",
          "are",
          "as",
          "be",
          "can",
          "do",
          "has",
          "have",
          "here",
          "here",
          "is",
          "is",
          "is",
          "is",
          "it",
          "look",
          "on",
          "pleasure",
          "problem",
          "to",
          "too",
          "very",
          "welcome",
          "welcome",
          "welcome",
          "what",
          "will",
          "would",
          "you",
          "you",
          "you",
          "you",
          "Added",
          "Based",
          "Do",
          "Great",
          "Have",
          "Hello",
          "Here",
          "Hi",
          "How",
          "I",
          "Id",
          "Ill",
          "It",
          "Ive",
          "My",
          "No",
          "Please",
          "Sure",
          "Thank",
          "This",
          "We",
          "What",
          "Yes",
          "You",
          "Your",
          "Youre",
          "here",
          "sure",
          "your"
         ],
         "name": "",
         "parents": [
          "We/apologize/for/the/inconvenience",
          "Sure/<blank>/<blank>/<blank>/<blank>",
          "sure/<blank>/<blank>/<blank>/<blank>",
          "My/pleasure/<blank>/<blank>/<blank>",
          "No/problem/<blank>/<blank>/<blank>",
          "You/too/<blank>/<blank>/<blank>",
          "Your/welcome/<blank>/<blank>/<blank>",
          "Youre/welcome/<blank>/<blank>/<blank>",
          "your/welcome/<blank>/<blank>/<blank>",
          "Thank/you/<blank>/<blank>/<blank>",
          "Here/you/are/<blank>/<blank>",
          "Here/you/go/<blank>/<blank>",
          "here/you/go/<blank>/<blank>",
          "Here/it/is/<blank>/<blank>",
          "How/about/these/<blank>/<blank>",
          "What/about/these/<blank>/<blank>",
          "How/are/these/<blank>/<blank>",
          "You/are/welcome/<blank>/<blank>",
          "Youre/very/welcome/<blank>/<blank>",
          "You/as/well/<blank>/<blank>",
          "Have/a/good/day/<blank>",
          "Have/a/great/day/<blank>",
          "Have/a/good/evening/<blank>",
          "Here/are/a/few/<blank>",
          "Sure/Here/you/go/<blank>",
          "Sure/here/you/go/<blank>",
          "sure/here/you/go/<blank>",
          "How/about/this/one/<blank>",
          "How/is/this/one/<blank>",
          "Hello/Any/color/preferences/<blank>",
          "You/are/very/welcome/<blank>",
          "What/is/your/color/preference",
          "Here/is/a/side/view",
          "This/is/the/top/view",
          "Added/to/cart/Anything/else",
          "This/is/the/Hedon/Kitchen",
          "I/would/be/happy/to",
          "Based/on/your/request/I",
          "Ill/add/it/to/your",
          "Ive/added/it/to/your",
          "Youre/welcome/Have/a/great",
          "Sure/I/can/help/you",
          "Yes/I/can/do/that",
          "I/would/be/happy/to",
          "Hello/I/would/love/to",
          "Sure/what/color/would/you",
          "Here/are/a/few/of",
          "Hi/Do/you/have/a",
          "Please/look/at/the/shared",
          "Here/it/is/from/the",
          "I/can/help/you/with",
          "Here/is/a/view/from",
          "This/is/a/view/from",
          "This/is/a/view/of",
          "Do/you/like/any/of",
          "What/do/you/think/of",
          "What/do/you/think/about",
          "I/have/added/this/item",
          "Thank/you/for/shopping/with",
          "Hi/I/can/help/you",
          "Sure/I/can/help/you",
          "Id/be/happy/to/help",
          "It/has/been/added/to",
          "Great/Ill/add/it/to",
          "I/will/add/it/to",
          "I/have/added/it/to",
          "I/have/added/this/to",
          "Sure/<blank>/<blank>/<blank>",
          "sure/<blank>/<blank>/<blank>",
          "My/pleasure/<blank>/<blank>",
          "No/problem/<blank>/<blank>",
          "You/too/<blank>/<blank>",
          "Your/welcome/<blank>/<blank>",
          "Youre/welcome/<blank>/<blank>",
          "your/welcome/<blank>/<blank>",
          "Thank/you/<blank>/<blank>",
          "Here/you/are/<blank>",
          "Here/you/go/<blank>",
          "here/you/go/<blank>",
          "Here/it/is/<blank>",
          "How/about/these/<blank>",
          "What/about/these/<blank>",
          "How/are/these/<blank>",
          "You/are/welcome/<blank>",
          "Youre/very/welcome/<blank>",
          "You/as/well/<blank>",
          "Have/a/good/day",
          "Have/a/great/day",
          "Have/a/good/evening",
          "Here/are/a/few",
          "Sure/Here/you/go",
          "Sure/here/you/go",
          "sure/here/you/go",
          "How/about/this/one",
          "How/is/this/one",
          "Hello/Any/color/preferences",
          "You/are/very/welcome",
          "Based/on/your/request",
          "This/is/the/Hedon",
          "Hi/Do/you/have",
          "What/do/you/think",
          "Added/to/cart/Anything",
          "Here/is/a/view",
          "This/is/a/view",
          "Youre/welcome/Have/a",
          "Id/be/happy/to",
          "We/apologize/for/the",
          "I/have/added/this",
          "Do/you/like/any",
          "Here/are/a/few",
          "What/do/you/think",
          "This/is/a/view",
          "What/is/your/color",
          "Please/look/at/the",
          "Yes/I/can/do",
          "Here/it/is/from",
          "It/has/been/added",
          "I/would/be/happy",
          "Great/Ill/add/it",
          "I/will/add/it",
          "I/have/added/it",
          "Hello/I/would/love",
          "I/have/added/this",
          "Here/is/a/side",
          "This/is/the/top",
          "Thank/you/for/shopping",
          "I/can/help/you",
          "Hi/I/can/help",
          "Sure/I/can/help",
          "Sure/what/color/would",
          "Ill/add/it/to",
          "Ive/added/it/to",
          "Sure/<blank>/<blank>",
          "sure/<blank>/<blank>",
          "My/pleasure/<blank>",
          "No/problem/<blank>",
          "You/too/<blank>",
          "Your/welcome/<blank>",
          "Youre/welcome/<blank>",
          "your/welcome/<blank>",
          "Thank/you/<blank>",
          "Here/you/are",
          "Here/you/go",
          "here/you/go",
          "Here/it/is",
          "How/about/these",
          "What/about/these",
          "How/are/these",
          "You/are/welcome",
          "Youre/very/welcome",
          "You/as/well",
          "Added/to/cart",
          "This/is/the",
          "Youre/welcome/Have",
          "It/has/been",
          "Do/you/like",
          "What/is/your",
          "Have/a/good",
          "Have/a/great",
          "Yes/I/can",
          "Have/a/good",
          "Here/are/a",
          "Here/it/is",
          "Sure/Here/you",
          "Sure/here/you",
          "sure/here/you",
          "I/would/be",
          "Hi/Do/you",
          "Hi/I/can",
          "Sure/I/can",
          "Great/Ill/add",
          "I/will/add",
          "I/have/added",
          "Hello/I/would",
          "How/about/this",
          "How/is/this",
          "Hello/Any/color",
          "Based/on/your",
          "Thank/you/for",
          "Here/is/a",
          "Please/look/at",
          "We/apologize/for",
          "What/do/you",
          "I/have/added",
          "Id/be/happy",
          "Ill/add/it",
          "Ive/added/it",
          "This/is/the",
          "Here/is/a",
          "This/is/a",
          "You/are/very",
          "Sure/what/color",
          "I/can/help",
          "Sure/<blank>",
          "sure/<blank>",
          "My/pleasure",
          "No/problem",
          "You/too",
          "Your/welcome",
          "Youre/welcome",
          "your/welcome",
          "Thank/you",
          "Youre/welcome",
          "Here/are",
          "Here/is",
          "This/is",
          "Great/Ill",
          "I/will",
          "I/have",
          "Here/you",
          "Please/look",
          "I/would",
          "It/has",
          "Hi/I",
          "Sure/I",
          "Yes/I",
          "Added/to",
          "Hello/Any",
          "Sure/what",
          "We/apologize",
          "Thank/you",
          "Here/you",
          "here/you",
          "Have/a",
          "Have/a",
          "Id/be",
          "I/can",
          "Here/it",
          "Ill/add",
          "Ive/added",
          "Do/you",
          "This/is",
          "How/about",
          "What/about",
          "How/are",
          "How/about",
          "How/is",
          "You/are",
          "You/are",
          "Youre/very",
          "You/as",
          "Hello/I",
          "Hi/Do",
          "Sure/Here",
          "What/do",
          "Sure/here",
          "sure/here",
          "What/is",
          "Based/on",
          "Sure",
          "sure",
          "Hello",
          "Hi",
          "Sure",
          "Hello",
          "Hi",
          "Sure",
          "Yes",
          "Great",
          "Have",
          "How",
          "What",
          "Ill",
          "Ive",
          "We",
          "Here",
          "How",
          "You",
          "You",
          "Id",
          "I",
          "What",
          "It",
          "I",
          "Sure",
          "sure",
          "Here",
          "How",
          "This",
          "What",
          "Here",
          "Please",
          "Based",
          "My",
          "No",
          "Added",
          "You",
          "Youre",
          "Your",
          "Youre",
          "your",
          "Sure",
          "I",
          "I",
          "Do",
          "Here",
          "Thank",
          "here",
          "",
          "",
          "",
          "",
          "",
          "",
          "",
          "",
          "",
          "",
          "",
          "",
          "",
          "",
          "",
          "",
          "",
          "",
          "",
          "",
          "",
          "",
          "",
          "",
          "",
          "",
          "",
          "",
          ""
         ],
         "type": "sunburst",
         "values": [
          5,
          12,
          6,
          10,
          6,
          6,
          10,
          42,
          4,
          6,
          4,
          38,
          6,
          7,
          17,
          5,
          5,
          19,
          7,
          11,
          5,
          6,
          4,
          4,
          4,
          9,
          4,
          8,
          5,
          5,
          6,
          4,
          5,
          5,
          5,
          5,
          4,
          6,
          4,
          5,
          7,
          4,
          4,
          7,
          4,
          4,
          4,
          4,
          4,
          4,
          13,
          5,
          4,
          4,
          15,
          4,
          6,
          4,
          12,
          4,
          5,
          5,
          6,
          5,
          7,
          14,
          14,
          12,
          6,
          10,
          6,
          6,
          10,
          42,
          4,
          6,
          4,
          38,
          6,
          7,
          17,
          5,
          5,
          19,
          7,
          11,
          5,
          6,
          4,
          4,
          4,
          9,
          4,
          8,
          5,
          5,
          6,
          6,
          5,
          4,
          6,
          5,
          5,
          4,
          7,
          5,
          5,
          4,
          15,
          4,
          4,
          4,
          4,
          4,
          4,
          4,
          6,
          11,
          5,
          7,
          14,
          4,
          14,
          5,
          5,
          12,
          13,
          4,
          9,
          4,
          4,
          5,
          12,
          6,
          10,
          6,
          6,
          10,
          42,
          4,
          6,
          4,
          38,
          6,
          7,
          17,
          5,
          5,
          19,
          7,
          11,
          5,
          5,
          7,
          6,
          15,
          4,
          5,
          6,
          4,
          4,
          8,
          4,
          4,
          9,
          4,
          11,
          4,
          4,
          9,
          5,
          7,
          14,
          4,
          8,
          5,
          5,
          6,
          12,
          5,
          4,
          5,
          10,
          18,
          5,
          4,
          5,
          5,
          5,
          8,
          6,
          4,
          13,
          12,
          6,
          10,
          6,
          6,
          10,
          42,
          4,
          6,
          7,
          8,
          10,
          8,
          5,
          7,
          32,
          4,
          4,
          11,
          6,
          4,
          9,
          4,
          5,
          5,
          4,
          5,
          12,
          38,
          6,
          9,
          6,
          5,
          13,
          11,
          4,
          5,
          15,
          10,
          17,
          5,
          5,
          8,
          5,
          6,
          19,
          7,
          11,
          4,
          4,
          4,
          10,
          9,
          4,
          4,
          6,
          12,
          6,
          5,
          4,
          4,
          4,
          4,
          9,
          4,
          5,
          15,
          25,
          5,
          4,
          5,
          5,
          8,
          5,
          25,
          11,
          5,
          13,
          10,
          6,
          32,
          9,
          4,
          10,
          5,
          18,
          4,
          11,
          4,
          6,
          10,
          6,
          5,
          6,
          7,
          10,
          49,
          4,
          4,
          7,
          11,
          15,
          42,
          18,
          6,
          5,
          6,
          15,
          5,
          15,
          9,
          71,
          8,
          35,
          63,
          5,
          4,
          6,
          5,
          10,
          6,
          4,
          38,
          18,
          18,
          5,
          19,
          4,
          42,
          10,
          56,
          6,
          10,
          4
         ]
        }
       ],
       "layout": {
        "autosize": true,
        "legend": {
         "tracegroupgap": 0
        },
        "margin": {
         "t": 60
        },
        "template": {
         "data": {
          "bar": [
           {
            "error_x": {
             "color": "#2a3f5f"
            },
            "error_y": {
             "color": "#2a3f5f"
            },
            "marker": {
             "line": {
              "color": "#E5ECF6",
              "width": 0.5
             }
            },
            "type": "bar"
           }
          ],
          "barpolar": [
           {
            "marker": {
             "line": {
              "color": "#E5ECF6",
              "width": 0.5
             }
            },
            "type": "barpolar"
           }
          ],
          "carpet": [
           {
            "aaxis": {
             "endlinecolor": "#2a3f5f",
             "gridcolor": "white",
             "linecolor": "white",
             "minorgridcolor": "white",
             "startlinecolor": "#2a3f5f"
            },
            "baxis": {
             "endlinecolor": "#2a3f5f",
             "gridcolor": "white",
             "linecolor": "white",
             "minorgridcolor": "white",
             "startlinecolor": "#2a3f5f"
            },
            "type": "carpet"
           }
          ],
          "choropleth": [
           {
            "colorbar": {
             "outlinewidth": 0,
             "ticks": ""
            },
            "type": "choropleth"
           }
          ],
          "contour": [
           {
            "colorbar": {
             "outlinewidth": 0,
             "ticks": ""
            },
            "colorscale": [
             [
              0,
              "#0d0887"
             ],
             [
              0.1111111111111111,
              "#46039f"
             ],
             [
              0.2222222222222222,
              "#7201a8"
             ],
             [
              0.3333333333333333,
              "#9c179e"
             ],
             [
              0.4444444444444444,
              "#bd3786"
             ],
             [
              0.5555555555555556,
              "#d8576b"
             ],
             [
              0.6666666666666666,
              "#ed7953"
             ],
             [
              0.7777777777777778,
              "#fb9f3a"
             ],
             [
              0.8888888888888888,
              "#fdca26"
             ],
             [
              1,
              "#f0f921"
             ]
            ],
            "type": "contour"
           }
          ],
          "contourcarpet": [
           {
            "colorbar": {
             "outlinewidth": 0,
             "ticks": ""
            },
            "type": "contourcarpet"
           }
          ],
          "heatmap": [
           {
            "colorbar": {
             "outlinewidth": 0,
             "ticks": ""
            },
            "colorscale": [
             [
              0,
              "#0d0887"
             ],
             [
              0.1111111111111111,
              "#46039f"
             ],
             [
              0.2222222222222222,
              "#7201a8"
             ],
             [
              0.3333333333333333,
              "#9c179e"
             ],
             [
              0.4444444444444444,
              "#bd3786"
             ],
             [
              0.5555555555555556,
              "#d8576b"
             ],
             [
              0.6666666666666666,
              "#ed7953"
             ],
             [
              0.7777777777777778,
              "#fb9f3a"
             ],
             [
              0.8888888888888888,
              "#fdca26"
             ],
             [
              1,
              "#f0f921"
             ]
            ],
            "type": "heatmap"
           }
          ],
          "heatmapgl": [
           {
            "colorbar": {
             "outlinewidth": 0,
             "ticks": ""
            },
            "colorscale": [
             [
              0,
              "#0d0887"
             ],
             [
              0.1111111111111111,
              "#46039f"
             ],
             [
              0.2222222222222222,
              "#7201a8"
             ],
             [
              0.3333333333333333,
              "#9c179e"
             ],
             [
              0.4444444444444444,
              "#bd3786"
             ],
             [
              0.5555555555555556,
              "#d8576b"
             ],
             [
              0.6666666666666666,
              "#ed7953"
             ],
             [
              0.7777777777777778,
              "#fb9f3a"
             ],
             [
              0.8888888888888888,
              "#fdca26"
             ],
             [
              1,
              "#f0f921"
             ]
            ],
            "type": "heatmapgl"
           }
          ],
          "histogram": [
           {
            "marker": {
             "colorbar": {
              "outlinewidth": 0,
              "ticks": ""
             }
            },
            "type": "histogram"
           }
          ],
          "histogram2d": [
           {
            "colorbar": {
             "outlinewidth": 0,
             "ticks": ""
            },
            "colorscale": [
             [
              0,
              "#0d0887"
             ],
             [
              0.1111111111111111,
              "#46039f"
             ],
             [
              0.2222222222222222,
              "#7201a8"
             ],
             [
              0.3333333333333333,
              "#9c179e"
             ],
             [
              0.4444444444444444,
              "#bd3786"
             ],
             [
              0.5555555555555556,
              "#d8576b"
             ],
             [
              0.6666666666666666,
              "#ed7953"
             ],
             [
              0.7777777777777778,
              "#fb9f3a"
             ],
             [
              0.8888888888888888,
              "#fdca26"
             ],
             [
              1,
              "#f0f921"
             ]
            ],
            "type": "histogram2d"
           }
          ],
          "histogram2dcontour": [
           {
            "colorbar": {
             "outlinewidth": 0,
             "ticks": ""
            },
            "colorscale": [
             [
              0,
              "#0d0887"
             ],
             [
              0.1111111111111111,
              "#46039f"
             ],
             [
              0.2222222222222222,
              "#7201a8"
             ],
             [
              0.3333333333333333,
              "#9c179e"
             ],
             [
              0.4444444444444444,
              "#bd3786"
             ],
             [
              0.5555555555555556,
              "#d8576b"
             ],
             [
              0.6666666666666666,
              "#ed7953"
             ],
             [
              0.7777777777777778,
              "#fb9f3a"
             ],
             [
              0.8888888888888888,
              "#fdca26"
             ],
             [
              1,
              "#f0f921"
             ]
            ],
            "type": "histogram2dcontour"
           }
          ],
          "mesh3d": [
           {
            "colorbar": {
             "outlinewidth": 0,
             "ticks": ""
            },
            "type": "mesh3d"
           }
          ],
          "parcoords": [
           {
            "line": {
             "colorbar": {
              "outlinewidth": 0,
              "ticks": ""
             }
            },
            "type": "parcoords"
           }
          ],
          "pie": [
           {
            "automargin": true,
            "type": "pie"
           }
          ],
          "scatter": [
           {
            "marker": {
             "colorbar": {
              "outlinewidth": 0,
              "ticks": ""
             }
            },
            "type": "scatter"
           }
          ],
          "scatter3d": [
           {
            "line": {
             "colorbar": {
              "outlinewidth": 0,
              "ticks": ""
             }
            },
            "marker": {
             "colorbar": {
              "outlinewidth": 0,
              "ticks": ""
             }
            },
            "type": "scatter3d"
           }
          ],
          "scattercarpet": [
           {
            "marker": {
             "colorbar": {
              "outlinewidth": 0,
              "ticks": ""
             }
            },
            "type": "scattercarpet"
           }
          ],
          "scattergeo": [
           {
            "marker": {
             "colorbar": {
              "outlinewidth": 0,
              "ticks": ""
             }
            },
            "type": "scattergeo"
           }
          ],
          "scattergl": [
           {
            "marker": {
             "colorbar": {
              "outlinewidth": 0,
              "ticks": ""
             }
            },
            "type": "scattergl"
           }
          ],
          "scattermapbox": [
           {
            "marker": {
             "colorbar": {
              "outlinewidth": 0,
              "ticks": ""
             }
            },
            "type": "scattermapbox"
           }
          ],
          "scatterpolar": [
           {
            "marker": {
             "colorbar": {
              "outlinewidth": 0,
              "ticks": ""
             }
            },
            "type": "scatterpolar"
           }
          ],
          "scatterpolargl": [
           {
            "marker": {
             "colorbar": {
              "outlinewidth": 0,
              "ticks": ""
             }
            },
            "type": "scatterpolargl"
           }
          ],
          "scatterternary": [
           {
            "marker": {
             "colorbar": {
              "outlinewidth": 0,
              "ticks": ""
             }
            },
            "type": "scatterternary"
           }
          ],
          "surface": [
           {
            "colorbar": {
             "outlinewidth": 0,
             "ticks": ""
            },
            "colorscale": [
             [
              0,
              "#0d0887"
             ],
             [
              0.1111111111111111,
              "#46039f"
             ],
             [
              0.2222222222222222,
              "#7201a8"
             ],
             [
              0.3333333333333333,
              "#9c179e"
             ],
             [
              0.4444444444444444,
              "#bd3786"
             ],
             [
              0.5555555555555556,
              "#d8576b"
             ],
             [
              0.6666666666666666,
              "#ed7953"
             ],
             [
              0.7777777777777778,
              "#fb9f3a"
             ],
             [
              0.8888888888888888,
              "#fdca26"
             ],
             [
              1,
              "#f0f921"
             ]
            ],
            "type": "surface"
           }
          ],
          "table": [
           {
            "cells": {
             "fill": {
              "color": "#EBF0F8"
             },
             "line": {
              "color": "white"
             }
            },
            "header": {
             "fill": {
              "color": "#C8D4E3"
             },
             "line": {
              "color": "white"
             }
            },
            "type": "table"
           }
          ]
         },
         "layout": {
          "annotationdefaults": {
           "arrowcolor": "#2a3f5f",
           "arrowhead": 0,
           "arrowwidth": 1
          },
          "coloraxis": {
           "colorbar": {
            "outlinewidth": 0,
            "ticks": ""
           }
          },
          "colorscale": {
           "diverging": [
            [
             0,
             "#8e0152"
            ],
            [
             0.1,
             "#c51b7d"
            ],
            [
             0.2,
             "#de77ae"
            ],
            [
             0.3,
             "#f1b6da"
            ],
            [
             0.4,
             "#fde0ef"
            ],
            [
             0.5,
             "#f7f7f7"
            ],
            [
             0.6,
             "#e6f5d0"
            ],
            [
             0.7,
             "#b8e186"
            ],
            [
             0.8,
             "#7fbc41"
            ],
            [
             0.9,
             "#4d9221"
            ],
            [
             1,
             "#276419"
            ]
           ],
           "sequential": [
            [
             0,
             "#0d0887"
            ],
            [
             0.1111111111111111,
             "#46039f"
            ],
            [
             0.2222222222222222,
             "#7201a8"
            ],
            [
             0.3333333333333333,
             "#9c179e"
            ],
            [
             0.4444444444444444,
             "#bd3786"
            ],
            [
             0.5555555555555556,
             "#d8576b"
            ],
            [
             0.6666666666666666,
             "#ed7953"
            ],
            [
             0.7777777777777778,
             "#fb9f3a"
            ],
            [
             0.8888888888888888,
             "#fdca26"
            ],
            [
             1,
             "#f0f921"
            ]
           ],
           "sequentialminus": [
            [
             0,
             "#0d0887"
            ],
            [
             0.1111111111111111,
             "#46039f"
            ],
            [
             0.2222222222222222,
             "#7201a8"
            ],
            [
             0.3333333333333333,
             "#9c179e"
            ],
            [
             0.4444444444444444,
             "#bd3786"
            ],
            [
             0.5555555555555556,
             "#d8576b"
            ],
            [
             0.6666666666666666,
             "#ed7953"
            ],
            [
             0.7777777777777778,
             "#fb9f3a"
            ],
            [
             0.8888888888888888,
             "#fdca26"
            ],
            [
             1,
             "#f0f921"
            ]
           ]
          },
          "colorway": [
           "#636efa",
           "#EF553B",
           "#00cc96",
           "#ab63fa",
           "#FFA15A",
           "#19d3f3",
           "#FF6692",
           "#B6E880",
           "#FF97FF",
           "#FECB52"
          ],
          "font": {
           "color": "#2a3f5f"
          },
          "geo": {
           "bgcolor": "white",
           "lakecolor": "white",
           "landcolor": "#E5ECF6",
           "showlakes": true,
           "showland": true,
           "subunitcolor": "white"
          },
          "hoverlabel": {
           "align": "left"
          },
          "hovermode": "closest",
          "mapbox": {
           "style": "light"
          },
          "paper_bgcolor": "white",
          "plot_bgcolor": "#E5ECF6",
          "polar": {
           "angularaxis": {
            "gridcolor": "white",
            "linecolor": "white",
            "ticks": ""
           },
           "bgcolor": "#E5ECF6",
           "radialaxis": {
            "gridcolor": "white",
            "linecolor": "white",
            "ticks": ""
           }
          },
          "scene": {
           "xaxis": {
            "backgroundcolor": "#E5ECF6",
            "gridcolor": "white",
            "gridwidth": 2,
            "linecolor": "white",
            "showbackground": true,
            "ticks": "",
            "zerolinecolor": "white"
           },
           "yaxis": {
            "backgroundcolor": "#E5ECF6",
            "gridcolor": "white",
            "gridwidth": 2,
            "linecolor": "white",
            "showbackground": true,
            "ticks": "",
            "zerolinecolor": "white"
           },
           "zaxis": {
            "backgroundcolor": "#E5ECF6",
            "gridcolor": "white",
            "gridwidth": 2,
            "linecolor": "white",
            "showbackground": true,
            "ticks": "",
            "zerolinecolor": "white"
           }
          },
          "shapedefaults": {
           "line": {
            "color": "#2a3f5f"
           }
          },
          "ternary": {
           "aaxis": {
            "gridcolor": "white",
            "linecolor": "white",
            "ticks": ""
           },
           "baxis": {
            "gridcolor": "white",
            "linecolor": "white",
            "ticks": ""
           },
           "bgcolor": "#E5ECF6",
           "caxis": {
            "gridcolor": "white",
            "linecolor": "white",
            "ticks": ""
           }
          },
          "title": {
           "x": 0.05
          },
          "xaxis": {
           "automargin": true,
           "gridcolor": "white",
           "linecolor": "white",
           "ticks": "",
           "title": {
            "standoff": 15
           },
           "zerolinecolor": "white",
           "zerolinewidth": 2
          },
          "yaxis": {
           "automargin": true,
           "gridcolor": "white",
           "linecolor": "white",
           "ticks": "",
           "title": {
            "standoff": 15
           },
           "zerolinecolor": "white",
           "zerolinewidth": 2
          }
         }
        }
       }
      },
      "image/png": "[encoded data removed]",
      "text/html": [
       "<div>\n",
       "        \n",
       "        \n",
       "            <div id=\"0d463885-ad8e-4f2e-8c1f-39c7e2bd9abc\" class=\"plotly-graph-div\" style=\"height:525px; width:100%;\"></div>\n",
       "            <script type=\"text/javascript\">\n",
       "                require([\"plotly\"], function(Plotly) {\n",
       "                    window.PLOTLYENV=window.PLOTLYENV || {};\n",
       "                    \n",
       "                if (document.getElementById(\"0d463885-ad8e-4f2e-8c1f-39c7e2bd9abc\")) {\n",
       "                    Plotly.newPlot(\n",
       "                        '0d463885-ad8e-4f2e-8c1f-39c7e2bd9abc',\n",
       "                        [{\"branchvalues\": \"total\", \"domain\": {\"x\": [0.0, 1.0], \"y\": [0.0, 1.0]}, \"hovertemplate\": \"labels=%{label}<br>count=%{value}<br>parent=%{parent}<br>id=%{id}<extra></extra>\", \"ids\": [\"We/apologize/for/the/inconvenience/\", \"Sure/<blank>/<blank>/<blank>/<blank>/<blank>\", \"sure/<blank>/<blank>/<blank>/<blank>/<blank>\", \"My/pleasure/<blank>/<blank>/<blank>/<blank>\", \"No/problem/<blank>/<blank>/<blank>/<blank>\", \"You/too/<blank>/<blank>/<blank>/<blank>\", \"Your/welcome/<blank>/<blank>/<blank>/<blank>\", \"Youre/welcome/<blank>/<blank>/<blank>/<blank>\", \"your/welcome/<blank>/<blank>/<blank>/<blank>\", \"Thank/you/<blank>/<blank>/<blank>/<blank>\", \"Here/you/are/<blank>/<blank>/<blank>\", \"Here/you/go/<blank>/<blank>/<blank>\", \"here/you/go/<blank>/<blank>/<blank>\", \"Here/it/is/<blank>/<blank>/<blank>\", \"How/about/these/<blank>/<blank>/<blank>\", \"What/about/these/<blank>/<blank>/<blank>\", \"How/are/these/<blank>/<blank>/<blank>\", \"You/are/welcome/<blank>/<blank>/<blank>\", \"Youre/very/welcome/<blank>/<blank>/<blank>\", \"You/as/well/<blank>/<blank>/<blank>\", \"Have/a/good/day/<blank>/<blank>\", \"Have/a/great/day/<blank>/<blank>\", \"Have/a/good/evening/<blank>/<blank>\", \"Here/are/a/few/<blank>/<blank>\", \"Sure/Here/you/go/<blank>/<blank>\", \"Sure/here/you/go/<blank>/<blank>\", \"sure/here/you/go/<blank>/<blank>\", \"How/about/this/one/<blank>/<blank>\", \"How/is/this/one/<blank>/<blank>\", \"Hello/Any/color/preferences/<blank>/<blank>\", \"You/are/very/welcome/<blank>/<blank>\", \"What/is/your/color/preference/<blank>\", \"Here/is/a/side/view/<blank>\", \"This/is/the/top/view/<blank>\", \"Added/to/cart/Anything/else/I\", \"This/is/the/Hedon/Kitchen/Island\", \"I/would/be/happy/to/assist\", \"Based/on/your/request/I/can\", \"Ill/add/it/to/your/cart\", \"Ive/added/it/to/your/cart\", \"Youre/welcome/Have/a/great/day\", \"Sure/I/can/help/you/find\", \"Yes/I/can/do/that/for\", \"I/would/be/happy/to/help\", \"Hello/I/would/love/to/help\", \"Sure/what/color/would/you/like\", \"Here/are/a/few/of/our\", \"Hi/Do/you/have/a/particular\", \"Please/look/at/the/shared/pics\", \"Here/it/is/from/the/side\", \"I/can/help/you/with/that\", \"Here/is/a/view/from/the\", \"This/is/a/view/from/the\", \"This/is/a/view/of/the\", \"Do/you/like/any/of/these\", \"What/do/you/think/of/these\", \"What/do/you/think/about/this\", \"I/have/added/this/item/to\", \"Thank/you/for/shopping/with/us\", \"Hi/I/can/help/you/with\", \"Sure/I/can/help/you/with\", \"Id/be/happy/to/help/you\", \"It/has/been/added/to/your\", \"Great/Ill/add/it/to/your\", \"I/will/add/it/to/your\", \"I/have/added/it/to/your\", \"I/have/added/this/to/your\", \"Sure/<blank>/<blank>/<blank>/<blank>\", \"sure/<blank>/<blank>/<blank>/<blank>\", \"My/pleasure/<blank>/<blank>/<blank>\", \"No/problem/<blank>/<blank>/<blank>\", \"You/too/<blank>/<blank>/<blank>\", \"Your/welcome/<blank>/<blank>/<blank>\", \"Youre/welcome/<blank>/<blank>/<blank>\", \"your/welcome/<blank>/<blank>/<blank>\", \"Thank/you/<blank>/<blank>/<blank>\", \"Here/you/are/<blank>/<blank>\", \"Here/you/go/<blank>/<blank>\", \"here/you/go/<blank>/<blank>\", \"Here/it/is/<blank>/<blank>\", \"How/about/these/<blank>/<blank>\", \"What/about/these/<blank>/<blank>\", \"How/are/these/<blank>/<blank>\", \"You/are/welcome/<blank>/<blank>\", \"Youre/very/welcome/<blank>/<blank>\", \"You/as/well/<blank>/<blank>\", \"Have/a/good/day/<blank>\", \"Have/a/great/day/<blank>\", \"Have/a/good/evening/<blank>\", \"Here/are/a/few/<blank>\", \"Sure/Here/you/go/<blank>\", \"Sure/here/you/go/<blank>\", \"sure/here/you/go/<blank>\", \"How/about/this/one/<blank>\", \"How/is/this/one/<blank>\", \"Hello/Any/color/preferences/<blank>\", \"You/are/very/welcome/<blank>\", \"Based/on/your/request/I\", \"This/is/the/Hedon/Kitchen\", \"Hi/Do/you/have/a\", \"What/do/you/think/about\", \"Added/to/cart/Anything/else\", \"Here/is/a/view/from\", \"This/is/a/view/from\", \"Youre/welcome/Have/a/great\", \"Id/be/happy/to/help\", \"We/apologize/for/the/inconvenience\", \"I/have/added/this/item\", \"Do/you/like/any/of\", \"Here/are/a/few/of\", \"What/do/you/think/of\", \"This/is/a/view/of\", \"What/is/your/color/preference\", \"Please/look/at/the/shared\", \"Yes/I/can/do/that\", \"Here/it/is/from/the\", \"It/has/been/added/to\", \"I/would/be/happy/to\", \"Great/Ill/add/it/to\", \"I/will/add/it/to\", \"I/have/added/it/to\", \"Hello/I/would/love/to\", \"I/have/added/this/to\", \"Here/is/a/side/view\", \"This/is/the/top/view\", \"Thank/you/for/shopping/with\", \"I/can/help/you/with\", \"Hi/I/can/help/you\", \"Sure/I/can/help/you\", \"Sure/what/color/would/you\", \"Ill/add/it/to/your\", \"Ive/added/it/to/your\", \"Sure/<blank>/<blank>/<blank>\", \"sure/<blank>/<blank>/<blank>\", \"My/pleasure/<blank>/<blank>\", \"No/problem/<blank>/<blank>\", \"You/too/<blank>/<blank>\", \"Your/welcome/<blank>/<blank>\", \"Youre/welcome/<blank>/<blank>\", \"your/welcome/<blank>/<blank>\", \"Thank/you/<blank>/<blank>\", \"Here/you/are/<blank>\", \"Here/you/go/<blank>\", \"here/you/go/<blank>\", \"Here/it/is/<blank>\", \"How/about/these/<blank>\", \"What/about/these/<blank>\", \"How/are/these/<blank>\", \"You/are/welcome/<blank>\", \"Youre/very/welcome/<blank>\", \"You/as/well/<blank>\", \"Added/to/cart/Anything\", \"This/is/the/Hedon\", \"Youre/welcome/Have/a\", \"It/has/been/added\", \"Do/you/like/any\", \"What/is/your/color\", \"Have/a/good/day\", \"Have/a/great/day\", \"Yes/I/can/do\", \"Have/a/good/evening\", \"Here/are/a/few\", \"Here/it/is/from\", \"Sure/Here/you/go\", \"Sure/here/you/go\", \"sure/here/you/go\", \"I/would/be/happy\", \"Hi/Do/you/have\", \"Hi/I/can/help\", \"Sure/I/can/help\", \"Great/Ill/add/it\", \"I/will/add/it\", \"I/have/added/it\", \"Hello/I/would/love\", \"How/about/this/one\", \"How/is/this/one\", \"Hello/Any/color/preferences\", \"Based/on/your/request\", \"Thank/you/for/shopping\", \"Here/is/a/side\", \"Please/look/at/the\", \"We/apologize/for/the\", \"What/do/you/think\", \"I/have/added/this\", \"Id/be/happy/to\", \"Ill/add/it/to\", \"Ive/added/it/to\", \"This/is/the/top\", \"Here/is/a/view\", \"This/is/a/view\", \"You/are/very/welcome\", \"Sure/what/color/would\", \"I/can/help/you\", \"Sure/<blank>/<blank>\", \"sure/<blank>/<blank>\", \"My/pleasure/<blank>\", \"No/problem/<blank>\", \"You/too/<blank>\", \"Your/welcome/<blank>\", \"Youre/welcome/<blank>\", \"your/welcome/<blank>\", \"Thank/you/<blank>\", \"Youre/welcome/Have\", \"Here/are/a\", \"Here/is/a\", \"This/is/a\", \"Great/Ill/add\", \"I/will/add\", \"I/have/added\", \"Here/you/are\", \"Please/look/at\", \"I/would/be\", \"It/has/been\", \"Hi/I/can\", \"Sure/I/can\", \"Yes/I/can\", \"Added/to/cart\", \"Hello/Any/color\", \"Sure/what/color\", \"We/apologize/for\", \"Thank/you/for\", \"Here/you/go\", \"here/you/go\", \"Have/a/good\", \"Have/a/great\", \"Id/be/happy\", \"I/can/help\", \"Here/it/is\", \"Ill/add/it\", \"Ive/added/it\", \"Do/you/like\", \"This/is/the\", \"How/about/these\", \"What/about/these\", \"How/are/these\", \"How/about/this\", \"How/is/this\", \"You/are/very\", \"You/are/welcome\", \"Youre/very/welcome\", \"You/as/well\", \"Hello/I/would\", \"Hi/Do/you\", \"Sure/Here/you\", \"What/do/you\", \"Sure/here/you\", \"sure/here/you\", \"What/is/your\", \"Based/on/your\", \"Sure/<blank>\", \"sure/<blank>\", \"Hello/Any\", \"Hi/Do\", \"Sure/Here\", \"Hello/I\", \"Hi/I\", \"Sure/I\", \"Yes/I\", \"Great/Ill\", \"Have/a\", \"How/about\", \"What/about\", \"Ill/add\", \"Ive/added\", \"We/apologize\", \"Here/are\", \"How/are\", \"You/are\", \"You/as\", \"Id/be\", \"I/can\", \"What/do\", \"It/has\", \"I/have\", \"Sure/here\", \"sure/here\", \"Here/is\", \"How/is\", \"This/is\", \"What/is\", \"Here/it\", \"Please/look\", \"Based/on\", \"My/pleasure\", \"No/problem\", \"Added/to\", \"You/too\", \"Youre/very\", \"Your/welcome\", \"Youre/welcome\", \"your/welcome\", \"Sure/what\", \"I/will\", \"I/would\", \"Do/you\", \"Here/you\", \"Thank/you\", \"here/you\", \"Added\", \"Based\", \"Do\", \"Great\", \"Have\", \"Hello\", \"Here\", \"Hi\", \"How\", \"I\", \"Id\", \"Ill\", \"It\", \"Ive\", \"My\", \"No\", \"Please\", \"Sure\", \"Thank\", \"This\", \"We\", \"What\", \"Yes\", \"You\", \"Your\", \"Youre\", \"here\", \"sure\", \"your\"], \"labels\": [\"\", \"<blank>\", \"<blank>\", \"<blank>\", \"<blank>\", \"<blank>\", \"<blank>\", \"<blank>\", \"<blank>\", \"<blank>\", \"<blank>\", \"<blank>\", \"<blank>\", \"<blank>\", \"<blank>\", \"<blank>\", \"<blank>\", \"<blank>\", \"<blank>\", \"<blank>\", \"<blank>\", \"<blank>\", \"<blank>\", \"<blank>\", \"<blank>\", \"<blank>\", \"<blank>\", \"<blank>\", \"<blank>\", \"<blank>\", \"<blank>\", \"<blank>\", \"<blank>\", \"<blank>\", \"I\", \"Island\", \"assist\", \"can\", \"cart\", \"cart\", \"day\", \"find\", \"for\", \"help\", \"help\", \"like\", \"our\", \"particular\", \"pics\", \"side\", \"that\", \"the\", \"the\", \"the\", \"these\", \"these\", \"this\", \"to\", \"us\", \"with\", \"with\", \"you\", \"your\", \"your\", \"your\", \"your\", \"your\", \"<blank>\", \"<blank>\", \"<blank>\", \"<blank>\", \"<blank>\", \"<blank>\", \"<blank>\", \"<blank>\", \"<blank>\", \"<blank>\", \"<blank>\", \"<blank>\", \"<blank>\", \"<blank>\", \"<blank>\", \"<blank>\", \"<blank>\", \"<blank>\", \"<blank>\", \"<blank>\", \"<blank>\", \"<blank>\", \"<blank>\", \"<blank>\", \"<blank>\", \"<blank>\", \"<blank>\", \"<blank>\", \"<blank>\", \"<blank>\", \"I\", \"Kitchen\", \"a\", \"about\", \"else\", \"from\", \"from\", \"great\", \"help\", \"inconvenience\", \"item\", \"of\", \"of\", \"of\", \"of\", \"preference\", \"shared\", \"that\", \"the\", \"to\", \"to\", \"to\", \"to\", \"to\", \"to\", \"to\", \"view\", \"view\", \"with\", \"with\", \"you\", \"you\", \"you\", \"your\", \"your\", \"<blank>\", \"<blank>\", \"<blank>\", \"<blank>\", \"<blank>\", \"<blank>\", \"<blank>\", \"<blank>\", \"<blank>\", \"<blank>\", \"<blank>\", \"<blank>\", \"<blank>\", \"<blank>\", \"<blank>\", \"<blank>\", \"<blank>\", \"<blank>\", \"<blank>\", \"Anything\", \"Hedon\", \"a\", \"added\", \"any\", \"color\", \"day\", \"day\", \"do\", \"evening\", \"few\", \"from\", \"go\", \"go\", \"go\", \"happy\", \"have\", \"help\", \"help\", \"it\", \"it\", \"it\", \"love\", \"one\", \"one\", \"preferences\", \"request\", \"shopping\", \"side\", \"the\", \"the\", \"think\", \"this\", \"to\", \"to\", \"to\", \"top\", \"view\", \"view\", \"welcome\", \"would\", \"you\", \"<blank>\", \"<blank>\", \"<blank>\", \"<blank>\", \"<blank>\", \"<blank>\", \"<blank>\", \"<blank>\", \"<blank>\", \"Have\", \"a\", \"a\", \"a\", \"add\", \"add\", \"added\", \"are\", \"at\", \"be\", \"been\", \"can\", \"can\", \"can\", \"cart\", \"color\", \"color\", \"for\", \"for\", \"go\", \"go\", \"good\", \"great\", \"happy\", \"help\", \"is\", \"it\", \"it\", \"like\", \"the\", \"these\", \"these\", \"these\", \"this\", \"this\", \"very\", \"welcome\", \"welcome\", \"well\", \"would\", \"you\", \"you\", \"you\", \"you\", \"you\", \"your\", \"your\", \"<blank>\", \"<blank>\", \"Any\", \"Do\", \"Here\", \"I\", \"I\", \"I\", \"I\", \"Ill\", \"a\", \"about\", \"about\", \"add\", \"added\", \"apologize\", \"are\", \"are\", \"are\", \"as\", \"be\", \"can\", \"do\", \"has\", \"have\", \"here\", \"here\", \"is\", \"is\", \"is\", \"is\", \"it\", \"look\", \"on\", \"pleasure\", \"problem\", \"to\", \"too\", \"very\", \"welcome\", \"welcome\", \"welcome\", \"what\", \"will\", \"would\", \"you\", \"you\", \"you\", \"you\", \"Added\", \"Based\", \"Do\", \"Great\", \"Have\", \"Hello\", \"Here\", \"Hi\", \"How\", \"I\", \"Id\", \"Ill\", \"It\", \"Ive\", \"My\", \"No\", \"Please\", \"Sure\", \"Thank\", \"This\", \"We\", \"What\", \"Yes\", \"You\", \"Your\", \"Youre\", \"here\", \"sure\", \"your\"], \"name\": \"\", \"parents\": [\"We/apologize/for/the/inconvenience\", \"Sure/<blank>/<blank>/<blank>/<blank>\", \"sure/<blank>/<blank>/<blank>/<blank>\", \"My/pleasure/<blank>/<blank>/<blank>\", \"No/problem/<blank>/<blank>/<blank>\", \"You/too/<blank>/<blank>/<blank>\", \"Your/welcome/<blank>/<blank>/<blank>\", \"Youre/welcome/<blank>/<blank>/<blank>\", \"your/welcome/<blank>/<blank>/<blank>\", \"Thank/you/<blank>/<blank>/<blank>\", \"Here/you/are/<blank>/<blank>\", \"Here/you/go/<blank>/<blank>\", \"here/you/go/<blank>/<blank>\", \"Here/it/is/<blank>/<blank>\", \"How/about/these/<blank>/<blank>\", \"What/about/these/<blank>/<blank>\", \"How/are/these/<blank>/<blank>\", \"You/are/welcome/<blank>/<blank>\", \"Youre/very/welcome/<blank>/<blank>\", \"You/as/well/<blank>/<blank>\", \"Have/a/good/day/<blank>\", \"Have/a/great/day/<blank>\", \"Have/a/good/evening/<blank>\", \"Here/are/a/few/<blank>\", \"Sure/Here/you/go/<blank>\", \"Sure/here/you/go/<blank>\", \"sure/here/you/go/<blank>\", \"How/about/this/one/<blank>\", \"How/is/this/one/<blank>\", \"Hello/Any/color/preferences/<blank>\", \"You/are/very/welcome/<blank>\", \"What/is/your/color/preference\", \"Here/is/a/side/view\", \"This/is/the/top/view\", \"Added/to/cart/Anything/else\", \"This/is/the/Hedon/Kitchen\", \"I/would/be/happy/to\", \"Based/on/your/request/I\", \"Ill/add/it/to/your\", \"Ive/added/it/to/your\", \"Youre/welcome/Have/a/great\", \"Sure/I/can/help/you\", \"Yes/I/can/do/that\", \"I/would/be/happy/to\", \"Hello/I/would/love/to\", \"Sure/what/color/would/you\", \"Here/are/a/few/of\", \"Hi/Do/you/have/a\", \"Please/look/at/the/shared\", \"Here/it/is/from/the\", \"I/can/help/you/with\", \"Here/is/a/view/from\", \"This/is/a/view/from\", \"This/is/a/view/of\", \"Do/you/like/any/of\", \"What/do/you/think/of\", \"What/do/you/think/about\", \"I/have/added/this/item\", \"Thank/you/for/shopping/with\", \"Hi/I/can/help/you\", \"Sure/I/can/help/you\", \"Id/be/happy/to/help\", \"It/has/been/added/to\", \"Great/Ill/add/it/to\", \"I/will/add/it/to\", \"I/have/added/it/to\", \"I/have/added/this/to\", \"Sure/<blank>/<blank>/<blank>\", \"sure/<blank>/<blank>/<blank>\", \"My/pleasure/<blank>/<blank>\", \"No/problem/<blank>/<blank>\", \"You/too/<blank>/<blank>\", \"Your/welcome/<blank>/<blank>\", \"Youre/welcome/<blank>/<blank>\", \"your/welcome/<blank>/<blank>\", \"Thank/you/<blank>/<blank>\", \"Here/you/are/<blank>\", \"Here/you/go/<blank>\", \"here/you/go/<blank>\", \"Here/it/is/<blank>\", \"How/about/these/<blank>\", \"What/about/these/<blank>\", \"How/are/these/<blank>\", \"You/are/welcome/<blank>\", \"Youre/very/welcome/<blank>\", \"You/as/well/<blank>\", \"Have/a/good/day\", \"Have/a/great/day\", \"Have/a/good/evening\", \"Here/are/a/few\", \"Sure/Here/you/go\", \"Sure/here/you/go\", \"sure/here/you/go\", \"How/about/this/one\", \"How/is/this/one\", \"Hello/Any/color/preferences\", \"You/are/very/welcome\", \"Based/on/your/request\", \"This/is/the/Hedon\", \"Hi/Do/you/have\", \"What/do/you/think\", \"Added/to/cart/Anything\", \"Here/is/a/view\", \"This/is/a/view\", \"Youre/welcome/Have/a\", \"Id/be/happy/to\", \"We/apologize/for/the\", \"I/have/added/this\", \"Do/you/like/any\", \"Here/are/a/few\", \"What/do/you/think\", \"This/is/a/view\", \"What/is/your/color\", \"Please/look/at/the\", \"Yes/I/can/do\", \"Here/it/is/from\", \"It/has/been/added\", \"I/would/be/happy\", \"Great/Ill/add/it\", \"I/will/add/it\", \"I/have/added/it\", \"Hello/I/would/love\", \"I/have/added/this\", \"Here/is/a/side\", \"This/is/the/top\", \"Thank/you/for/shopping\", \"I/can/help/you\", \"Hi/I/can/help\", \"Sure/I/can/help\", \"Sure/what/color/would\", \"Ill/add/it/to\", \"Ive/added/it/to\", \"Sure/<blank>/<blank>\", \"sure/<blank>/<blank>\", \"My/pleasure/<blank>\", \"No/problem/<blank>\", \"You/too/<blank>\", \"Your/welcome/<blank>\", \"Youre/welcome/<blank>\", \"your/welcome/<blank>\", \"Thank/you/<blank>\", \"Here/you/are\", \"Here/you/go\", \"here/you/go\", \"Here/it/is\", \"How/about/these\", \"What/about/these\", \"How/are/these\", \"You/are/welcome\", \"Youre/very/welcome\", \"You/as/well\", \"Added/to/cart\", \"This/is/the\", \"Youre/welcome/Have\", \"It/has/been\", \"Do/you/like\", \"What/is/your\", \"Have/a/good\", \"Have/a/great\", \"Yes/I/can\", \"Have/a/good\", \"Here/are/a\", \"Here/it/is\", \"Sure/Here/you\", \"Sure/here/you\", \"sure/here/you\", \"I/would/be\", \"Hi/Do/you\", \"Hi/I/can\", \"Sure/I/can\", \"Great/Ill/add\", \"I/will/add\", \"I/have/added\", \"Hello/I/would\", \"How/about/this\", \"How/is/this\", \"Hello/Any/color\", \"Based/on/your\", \"Thank/you/for\", \"Here/is/a\", \"Please/look/at\", \"We/apologize/for\", \"What/do/you\", \"I/have/added\", \"Id/be/happy\", \"Ill/add/it\", \"Ive/added/it\", \"This/is/the\", \"Here/is/a\", \"This/is/a\", \"You/are/very\", \"Sure/what/color\", \"I/can/help\", \"Sure/<blank>\", \"sure/<blank>\", \"My/pleasure\", \"No/problem\", \"You/too\", \"Your/welcome\", \"Youre/welcome\", \"your/welcome\", \"Thank/you\", \"Youre/welcome\", \"Here/are\", \"Here/is\", \"This/is\", \"Great/Ill\", \"I/will\", \"I/have\", \"Here/you\", \"Please/look\", \"I/would\", \"It/has\", \"Hi/I\", \"Sure/I\", \"Yes/I\", \"Added/to\", \"Hello/Any\", \"Sure/what\", \"We/apologize\", \"Thank/you\", \"Here/you\", \"here/you\", \"Have/a\", \"Have/a\", \"Id/be\", \"I/can\", \"Here/it\", \"Ill/add\", \"Ive/added\", \"Do/you\", \"This/is\", \"How/about\", \"What/about\", \"How/are\", \"How/about\", \"How/is\", \"You/are\", \"You/are\", \"Youre/very\", \"You/as\", \"Hello/I\", \"Hi/Do\", \"Sure/Here\", \"What/do\", \"Sure/here\", \"sure/here\", \"What/is\", \"Based/on\", \"Sure\", \"sure\", \"Hello\", \"Hi\", \"Sure\", \"Hello\", \"Hi\", \"Sure\", \"Yes\", \"Great\", \"Have\", \"How\", \"What\", \"Ill\", \"Ive\", \"We\", \"Here\", \"How\", \"You\", \"You\", \"Id\", \"I\", \"What\", \"It\", \"I\", \"Sure\", \"sure\", \"Here\", \"How\", \"This\", \"What\", \"Here\", \"Please\", \"Based\", \"My\", \"No\", \"Added\", \"You\", \"Youre\", \"Your\", \"Youre\", \"your\", \"Sure\", \"I\", \"I\", \"Do\", \"Here\", \"Thank\", \"here\", \"\", \"\", \"\", \"\", \"\", \"\", \"\", \"\", \"\", \"\", \"\", \"\", \"\", \"\", \"\", \"\", \"\", \"\", \"\", \"\", \"\", \"\", \"\", \"\", \"\", \"\", \"\", \"\", \"\"], \"type\": \"sunburst\", \"values\": [5, 12, 6, 10, 6, 6, 10, 42, 4, 6, 4, 38, 6, 7, 17, 5, 5, 19, 7, 11, 5, 6, 4, 4, 4, 9, 4, 8, 5, 5, 6, 4, 5, 5, 5, 5, 4, 6, 4, 5, 7, 4, 4, 7, 4, 4, 4, 4, 4, 4, 13, 5, 4, 4, 15, 4, 6, 4, 12, 4, 5, 5, 6, 5, 7, 14, 14, 12, 6, 10, 6, 6, 10, 42, 4, 6, 4, 38, 6, 7, 17, 5, 5, 19, 7, 11, 5, 6, 4, 4, 4, 9, 4, 8, 5, 5, 6, 6, 5, 4, 6, 5, 5, 4, 7, 5, 5, 4, 15, 4, 4, 4, 4, 4, 4, 4, 6, 11, 5, 7, 14, 4, 14, 5, 5, 12, 13, 4, 9, 4, 4, 5, 12, 6, 10, 6, 6, 10, 42, 4, 6, 4, 38, 6, 7, 17, 5, 5, 19, 7, 11, 5, 5, 7, 6, 15, 4, 5, 6, 4, 4, 8, 4, 4, 9, 4, 11, 4, 4, 9, 5, 7, 14, 4, 8, 5, 5, 6, 12, 5, 4, 5, 10, 18, 5, 4, 5, 5, 5, 8, 6, 4, 13, 12, 6, 10, 6, 6, 10, 42, 4, 6, 7, 8, 10, 8, 5, 7, 32, 4, 4, 11, 6, 4, 9, 4, 5, 5, 4, 5, 12, 38, 6, 9, 6, 5, 13, 11, 4, 5, 15, 10, 17, 5, 5, 8, 5, 6, 19, 7, 11, 4, 4, 4, 10, 9, 4, 4, 6, 12, 6, 5, 4, 4, 4, 4, 9, 4, 5, 15, 25, 5, 4, 5, 5, 8, 5, 25, 11, 5, 13, 10, 6, 32, 9, 4, 10, 5, 18, 4, 11, 4, 6, 10, 6, 5, 6, 7, 10, 49, 4, 4, 7, 11, 15, 42, 18, 6, 5, 6, 15, 5, 15, 9, 71, 8, 35, 63, 5, 4, 6, 5, 10, 6, 4, 38, 18, 18, 5, 19, 4, 42, 10, 56, 6, 10, 4]}],\n",
       "                        {\"legend\": {\"tracegroupgap\": 0}, \"margin\": {\"t\": 60}, \"template\": {\"data\": {\"bar\": [{\"error_x\": {\"color\": \"#2a3f5f\"}, \"error_y\": {\"color\": \"#2a3f5f\"}, \"marker\": {\"line\": {\"color\": \"#E5ECF6\", \"width\": 0.5}}, \"type\": \"bar\"}], \"barpolar\": [{\"marker\": {\"line\": {\"color\": \"#E5ECF6\", \"width\": 0.5}}, \"type\": \"barpolar\"}], \"carpet\": [{\"aaxis\": {\"endlinecolor\": \"#2a3f5f\", \"gridcolor\": \"white\", \"linecolor\": \"white\", \"minorgridcolor\": \"white\", \"startlinecolor\": \"#2a3f5f\"}, \"baxis\": {\"endlinecolor\": \"#2a3f5f\", \"gridcolor\": \"white\", \"linecolor\": \"white\", \"minorgridcolor\": \"white\", \"startlinecolor\": \"#2a3f5f\"}, \"type\": \"carpet\"}], \"choropleth\": [{\"colorbar\": {\"outlinewidth\": 0, \"ticks\": \"\"}, \"type\": \"choropleth\"}], \"contour\": [{\"colorbar\": {\"outlinewidth\": 0, \"ticks\": \"\"}, \"colorscale\": [[0.0, \"#0d0887\"], [0.1111111111111111, \"#46039f\"], [0.2222222222222222, \"#7201a8\"], [0.3333333333333333, \"#9c179e\"], [0.4444444444444444, \"#bd3786\"], [0.5555555555555556, \"#d8576b\"], [0.6666666666666666, \"#ed7953\"], [0.7777777777777778, \"#fb9f3a\"], [0.8888888888888888, \"#fdca26\"], [1.0, \"#f0f921\"]], \"type\": \"contour\"}], \"contourcarpet\": [{\"colorbar\": {\"outlinewidth\": 0, \"ticks\": \"\"}, \"type\": \"contourcarpet\"}], \"heatmap\": [{\"colorbar\": {\"outlinewidth\": 0, \"ticks\": \"\"}, \"colorscale\": [[0.0, \"#0d0887\"], [0.1111111111111111, \"#46039f\"], [0.2222222222222222, \"#7201a8\"], [0.3333333333333333, \"#9c179e\"], [0.4444444444444444, \"#bd3786\"], [0.5555555555555556, \"#d8576b\"], [0.6666666666666666, \"#ed7953\"], [0.7777777777777778, \"#fb9f3a\"], [0.8888888888888888, \"#fdca26\"], [1.0, \"#f0f921\"]], \"type\": \"heatmap\"}], \"heatmapgl\": [{\"colorbar\": {\"outlinewidth\": 0, \"ticks\": \"\"}, \"colorscale\": [[0.0, \"#0d0887\"], [0.1111111111111111, \"#46039f\"], [0.2222222222222222, \"#7201a8\"], [0.3333333333333333, \"#9c179e\"], [0.4444444444444444, \"#bd3786\"], [0.5555555555555556, \"#d8576b\"], [0.6666666666666666, \"#ed7953\"], [0.7777777777777778, \"#fb9f3a\"], [0.8888888888888888, \"#fdca26\"], [1.0, \"#f0f921\"]], \"type\": \"heatmapgl\"}], \"histogram\": [{\"marker\": {\"colorbar\": {\"outlinewidth\": 0, \"ticks\": \"\"}}, \"type\": \"histogram\"}], \"histogram2d\": [{\"colorbar\": {\"outlinewidth\": 0, \"ticks\": \"\"}, \"colorscale\": [[0.0, \"#0d0887\"], [0.1111111111111111, \"#46039f\"], [0.2222222222222222, \"#7201a8\"], [0.3333333333333333, \"#9c179e\"], [0.4444444444444444, \"#bd3786\"], [0.5555555555555556, \"#d8576b\"], [0.6666666666666666, \"#ed7953\"], [0.7777777777777778, \"#fb9f3a\"], [0.8888888888888888, \"#fdca26\"], [1.0, \"#f0f921\"]], \"type\": \"histogram2d\"}], \"histogram2dcontour\": [{\"colorbar\": {\"outlinewidth\": 0, \"ticks\": \"\"}, \"colorscale\": [[0.0, \"#0d0887\"], [0.1111111111111111, \"#46039f\"], [0.2222222222222222, \"#7201a8\"], [0.3333333333333333, \"#9c179e\"], [0.4444444444444444, \"#bd3786\"], [0.5555555555555556, \"#d8576b\"], [0.6666666666666666, \"#ed7953\"], [0.7777777777777778, \"#fb9f3a\"], [0.8888888888888888, \"#fdca26\"], [1.0, \"#f0f921\"]], \"type\": \"histogram2dcontour\"}], \"mesh3d\": [{\"colorbar\": {\"outlinewidth\": 0, \"ticks\": \"\"}, \"type\": \"mesh3d\"}], \"parcoords\": [{\"line\": {\"colorbar\": {\"outlinewidth\": 0, \"ticks\": \"\"}}, \"type\": \"parcoords\"}], \"pie\": [{\"automargin\": true, \"type\": \"pie\"}], \"scatter\": [{\"marker\": {\"colorbar\": {\"outlinewidth\": 0, \"ticks\": \"\"}}, \"type\": \"scatter\"}], \"scatter3d\": [{\"line\": {\"colorbar\": {\"outlinewidth\": 0, \"ticks\": \"\"}}, \"marker\": {\"colorbar\": {\"outlinewidth\": 0, \"ticks\": \"\"}}, \"type\": \"scatter3d\"}], \"scattercarpet\": [{\"marker\": {\"colorbar\": {\"outlinewidth\": 0, \"ticks\": \"\"}}, \"type\": \"scattercarpet\"}], \"scattergeo\": [{\"marker\": {\"colorbar\": {\"outlinewidth\": 0, \"ticks\": \"\"}}, \"type\": \"scattergeo\"}], \"scattergl\": [{\"marker\": {\"colorbar\": {\"outlinewidth\": 0, \"ticks\": \"\"}}, \"type\": \"scattergl\"}], \"scattermapbox\": [{\"marker\": {\"colorbar\": {\"outlinewidth\": 0, \"ticks\": \"\"}}, \"type\": \"scattermapbox\"}], \"scatterpolar\": [{\"marker\": {\"colorbar\": {\"outlinewidth\": 0, \"ticks\": \"\"}}, \"type\": \"scatterpolar\"}], \"scatterpolargl\": [{\"marker\": {\"colorbar\": {\"outlinewidth\": 0, \"ticks\": \"\"}}, \"type\": \"scatterpolargl\"}], \"scatterternary\": [{\"marker\": {\"colorbar\": {\"outlinewidth\": 0, \"ticks\": \"\"}}, \"type\": \"scatterternary\"}], \"surface\": [{\"colorbar\": {\"outlinewidth\": 0, \"ticks\": \"\"}, \"colorscale\": [[0.0, \"#0d0887\"], [0.1111111111111111, \"#46039f\"], [0.2222222222222222, \"#7201a8\"], [0.3333333333333333, \"#9c179e\"], [0.4444444444444444, \"#bd3786\"], [0.5555555555555556, \"#d8576b\"], [0.6666666666666666, \"#ed7953\"], [0.7777777777777778, \"#fb9f3a\"], [0.8888888888888888, \"#fdca26\"], [1.0, \"#f0f921\"]], \"type\": \"surface\"}], \"table\": [{\"cells\": {\"fill\": {\"color\": \"#EBF0F8\"}, \"line\": {\"color\": \"white\"}}, \"header\": {\"fill\": {\"color\": \"#C8D4E3\"}, \"line\": {\"color\": \"white\"}}, \"type\": \"table\"}]}, \"layout\": {\"annotationdefaults\": {\"arrowcolor\": \"#2a3f5f\", \"arrowhead\": 0, \"arrowwidth\": 1}, \"coloraxis\": {\"colorbar\": {\"outlinewidth\": 0, \"ticks\": \"\"}}, \"colorscale\": {\"diverging\": [[0, \"#8e0152\"], [0.1, \"#c51b7d\"], [0.2, \"#de77ae\"], [0.3, \"#f1b6da\"], [0.4, \"#fde0ef\"], [0.5, \"#f7f7f7\"], [0.6, \"#e6f5d0\"], [0.7, \"#b8e186\"], [0.8, \"#7fbc41\"], [0.9, \"#4d9221\"], [1, \"#276419\"]], \"sequential\": [[0.0, \"#0d0887\"], [0.1111111111111111, \"#46039f\"], [0.2222222222222222, \"#7201a8\"], [0.3333333333333333, \"#9c179e\"], [0.4444444444444444, \"#bd3786\"], [0.5555555555555556, \"#d8576b\"], [0.6666666666666666, \"#ed7953\"], [0.7777777777777778, \"#fb9f3a\"], [0.8888888888888888, \"#fdca26\"], [1.0, \"#f0f921\"]], \"sequentialminus\": [[0.0, \"#0d0887\"], [0.1111111111111111, \"#46039f\"], [0.2222222222222222, \"#7201a8\"], [0.3333333333333333, \"#9c179e\"], [0.4444444444444444, \"#bd3786\"], [0.5555555555555556, \"#d8576b\"], [0.6666666666666666, \"#ed7953\"], [0.7777777777777778, \"#fb9f3a\"], [0.8888888888888888, \"#fdca26\"], [1.0, \"#f0f921\"]]}, \"colorway\": [\"#636efa\", \"#EF553B\", \"#00cc96\", \"#ab63fa\", \"#FFA15A\", \"#19d3f3\", \"#FF6692\", \"#B6E880\", \"#FF97FF\", \"#FECB52\"], \"font\": {\"color\": \"#2a3f5f\"}, \"geo\": {\"bgcolor\": \"white\", \"lakecolor\": \"white\", \"landcolor\": \"#E5ECF6\", \"showlakes\": true, \"showland\": true, \"subunitcolor\": \"white\"}, \"hoverlabel\": {\"align\": \"left\"}, \"hovermode\": \"closest\", \"mapbox\": {\"style\": \"light\"}, \"paper_bgcolor\": \"white\", \"plot_bgcolor\": \"#E5ECF6\", \"polar\": {\"angularaxis\": {\"gridcolor\": \"white\", \"linecolor\": \"white\", \"ticks\": \"\"}, \"bgcolor\": \"#E5ECF6\", \"radialaxis\": {\"gridcolor\": \"white\", \"linecolor\": \"white\", \"ticks\": \"\"}}, \"scene\": {\"xaxis\": {\"backgroundcolor\": \"#E5ECF6\", \"gridcolor\": \"white\", \"gridwidth\": 2, \"linecolor\": \"white\", \"showbackground\": true, \"ticks\": \"\", \"zerolinecolor\": \"white\"}, \"yaxis\": {\"backgroundcolor\": \"#E5ECF6\", \"gridcolor\": \"white\", \"gridwidth\": 2, \"linecolor\": \"white\", \"showbackground\": true, \"ticks\": \"\", \"zerolinecolor\": \"white\"}, \"zaxis\": {\"backgroundcolor\": \"#E5ECF6\", \"gridcolor\": \"white\", \"gridwidth\": 2, \"linecolor\": \"white\", \"showbackground\": true, \"ticks\": \"\", \"zerolinecolor\": \"white\"}}, \"shapedefaults\": {\"line\": {\"color\": \"#2a3f5f\"}}, \"ternary\": {\"aaxis\": {\"gridcolor\": \"white\", \"linecolor\": \"white\", \"ticks\": \"\"}, \"baxis\": {\"gridcolor\": \"white\", \"linecolor\": \"white\", \"ticks\": \"\"}, \"bgcolor\": \"#E5ECF6\", \"caxis\": {\"gridcolor\": \"white\", \"linecolor\": \"white\", \"ticks\": \"\"}}, \"title\": {\"x\": 0.05}, \"xaxis\": {\"automargin\": true, \"gridcolor\": \"white\", \"linecolor\": \"white\", \"ticks\": \"\", \"title\": {\"standoff\": 15}, \"zerolinecolor\": \"white\", \"zerolinewidth\": 2}, \"yaxis\": {\"automargin\": true, \"gridcolor\": \"white\", \"linecolor\": \"white\", \"ticks\": \"\", \"title\": {\"standoff\": 15}, \"zerolinecolor\": \"white\", \"zerolinewidth\": 2}}}},\n",
       "                        {\"responsive\": true}\n",
       "                    ).then(function(){\n",
       "                            \n",
       "var gd = document.getElementById('0d463885-ad8e-4f2e-8c1f-39c7e2bd9abc');\n",
       "var x = new MutationObserver(function (mutations, observer) {{\n",
       "        var display = window.getComputedStyle(gd).display;\n",
       "        if (!display || display === 'none') {{\n",
       "            console.log([gd, 'removed!']);\n",
       "            Plotly.purge(gd);\n",
       "            observer.disconnect();\n",
       "        }}\n",
       "}});\n",
       "\n",
       "// Listen for the removal of the full notebook cells\n",
       "var notebookContainer = gd.closest('#notebook-container');\n",
       "if (notebookContainer) {{\n",
       "    x.observe(notebookContainer, {childList: true});\n",
       "}}\n",
       "\n",
       "// Listen for the clearing of the current output cell\n",
       "var outputEl = gd.closest('.output');\n",
       "if (outputEl) {{\n",
       "    x.observe(outputEl, {childList: true});\n",
       "}}\n",
       "\n",
       "                        })\n",
       "                };\n",
       "                });\n",
       "            </script>\n",
       "        </div>"
      ]
     },
     "metadata": {},
     "output_type": "display_data"
    }
   ],
   "source": [
    "plot_sentence_sunburst(sys_turns, 6\n",
    "                       ,min_last_level_count=4, filepath='a.html')"
   ]
  },
  {
   "cell_type": "code",
   "execution_count": 12,
   "metadata": {},
   "outputs": [
    {
     "data": {
      "application/vnd.plotly.v1+json": {
       "config": {
        "plotlyServerURL": "https://plot.ly"
       },
       "data": [
        {
         "branchvalues": "total",
         "domain": {
          "x": [
           0,
           1
          ],
          "y": [
           0,
           1
          ]
         },
         "hovertemplate": "labels=%{label}<br>count=%{value}<br>parent=%{parent}<br>id=%{id}<extra></extra>",
         "ids": [
          "Youre/welcome/<blank>",
          "Here/are/a",
          "Here/is/a",
          "This/is/a",
          "Is/there/a",
          "I/have/added",
          "The/dimensions/are",
          "I/would/be",
          "Sure/I/can",
          "Yes/I/can",
          "Here/you/go",
          "Id/be/happy",
          "Do/you/have",
          "I/can/help",
          "Here/it/is",
          "This/one/is",
          "The/price/is",
          "Do/you/like",
          "It/is/made",
          "This/is/our",
          "Here/are/some",
          "I/am/sorry",
          "Here/are/the",
          "Here/is/the",
          "This/is/the",
          "How/about/these",
          "How/about/this",
          "You/are/welcome",
          "What/do/you",
          "Sure/I",
          "Yes/I",
          "How/about",
          "I/am",
          "Here/are",
          "You/are",
          "Id/be",
          "I/can",
          "The/dimensions",
          "What/do",
          "I/have",
          "Here/is",
          "It/is",
          "This/is",
          "Here/it",
          "This/one",
          "The/price",
          "Is/there",
          "Youre/welcome",
          "I/would",
          "Do/you",
          "Here/you",
          "Do",
          "Here",
          "How",
          "I",
          "Id",
          "Is",
          "It",
          "Sure",
          "The",
          "This",
          "What",
          "Yes",
          "You",
          "Youre"
         ],
         "labels": [
          "<blank>",
          "a",
          "a",
          "a",
          "a",
          "added",
          "are",
          "be",
          "can",
          "can",
          "go",
          "happy",
          "have",
          "help",
          "is",
          "is",
          "is",
          "like",
          "made",
          "our",
          "some",
          "sorry",
          "the",
          "the",
          "the",
          "these",
          "this",
          "welcome",
          "you",
          "I",
          "I",
          "about",
          "am",
          "are",
          "are",
          "be",
          "can",
          "dimensions",
          "do",
          "have",
          "is",
          "is",
          "is",
          "it",
          "one",
          "price",
          "there",
          "welcome",
          "would",
          "you",
          "you",
          "Do",
          "Here",
          "How",
          "I",
          "Id",
          "Is",
          "It",
          "Sure",
          "The",
          "This",
          "What",
          "Yes",
          "You",
          "Youre"
         ],
         "name": "",
         "parents": [
          "Youre/welcome",
          "Here/are",
          "Here/is",
          "This/is",
          "Is/there",
          "I/have",
          "The/dimensions",
          "I/would",
          "Sure/I",
          "Yes/I",
          "Here/you",
          "Id/be",
          "Do/you",
          "I/can",
          "Here/it",
          "This/one",
          "The/price",
          "Do/you",
          "It/is",
          "This/is",
          "Here/are",
          "I/am",
          "Here/are",
          "Here/is",
          "This/is",
          "How/about",
          "How/about",
          "You/are",
          "What/do",
          "Sure",
          "Yes",
          "How",
          "I",
          "Here",
          "You",
          "Id",
          "I",
          "The",
          "What",
          "I",
          "Here",
          "It",
          "This",
          "Here",
          "This",
          "The",
          "Is",
          "Youre",
          "I",
          "Do",
          "Here",
          "",
          "",
          "",
          "",
          "",
          "",
          "",
          "",
          "",
          "",
          "",
          "",
          "",
          ""
         ],
         "type": "sunburst",
         "values": [
          42,
          58,
          56,
          36,
          20,
          49,
          30,
          20,
          18,
          18,
          52,
          23,
          23,
          21,
          18,
          53,
          54,
          28,
          19,
          21,
          71,
          17,
          18,
          39,
          139,
          23,
          21,
          56,
          18,
          18,
          18,
          44,
          17,
          147,
          56,
          23,
          21,
          30,
          18,
          49,
          95,
          19,
          196,
          18,
          53,
          54,
          20,
          42,
          20,
          51,
          52,
          51,
          312,
          44,
          107,
          23,
          20,
          19,
          18,
          84,
          249,
          18,
          18,
          56,
          42
         ]
        }
       ],
       "layout": {
        "autosize": true,
        "legend": {
         "tracegroupgap": 0
        },
        "margin": {
         "t": 60
        },
        "template": {
         "data": {
          "bar": [
           {
            "error_x": {
             "color": "#2a3f5f"
            },
            "error_y": {
             "color": "#2a3f5f"
            },
            "marker": {
             "line": {
              "color": "#E5ECF6",
              "width": 0.5
             }
            },
            "type": "bar"
           }
          ],
          "barpolar": [
           {
            "marker": {
             "line": {
              "color": "#E5ECF6",
              "width": 0.5
             }
            },
            "type": "barpolar"
           }
          ],
          "carpet": [
           {
            "aaxis": {
             "endlinecolor": "#2a3f5f",
             "gridcolor": "white",
             "linecolor": "white",
             "minorgridcolor": "white",
             "startlinecolor": "#2a3f5f"
            },
            "baxis": {
             "endlinecolor": "#2a3f5f",
             "gridcolor": "white",
             "linecolor": "white",
             "minorgridcolor": "white",
             "startlinecolor": "#2a3f5f"
            },
            "type": "carpet"
           }
          ],
          "choropleth": [
           {
            "colorbar": {
             "outlinewidth": 0,
             "ticks": ""
            },
            "type": "choropleth"
           }
          ],
          "contour": [
           {
            "colorbar": {
             "outlinewidth": 0,
             "ticks": ""
            },
            "colorscale": [
             [
              0,
              "#0d0887"
             ],
             [
              0.1111111111111111,
              "#46039f"
             ],
             [
              0.2222222222222222,
              "#7201a8"
             ],
             [
              0.3333333333333333,
              "#9c179e"
             ],
             [
              0.4444444444444444,
              "#bd3786"
             ],
             [
              0.5555555555555556,
              "#d8576b"
             ],
             [
              0.6666666666666666,
              "#ed7953"
             ],
             [
              0.7777777777777778,
              "#fb9f3a"
             ],
             [
              0.8888888888888888,
              "#fdca26"
             ],
             [
              1,
              "#f0f921"
             ]
            ],
            "type": "contour"
           }
          ],
          "contourcarpet": [
           {
            "colorbar": {
             "outlinewidth": 0,
             "ticks": ""
            },
            "type": "contourcarpet"
           }
          ],
          "heatmap": [
           {
            "colorbar": {
             "outlinewidth": 0,
             "ticks": ""
            },
            "colorscale": [
             [
              0,
              "#0d0887"
             ],
             [
              0.1111111111111111,
              "#46039f"
             ],
             [
              0.2222222222222222,
              "#7201a8"
             ],
             [
              0.3333333333333333,
              "#9c179e"
             ],
             [
              0.4444444444444444,
              "#bd3786"
             ],
             [
              0.5555555555555556,
              "#d8576b"
             ],
             [
              0.6666666666666666,
              "#ed7953"
             ],
             [
              0.7777777777777778,
              "#fb9f3a"
             ],
             [
              0.8888888888888888,
              "#fdca26"
             ],
             [
              1,
              "#f0f921"
             ]
            ],
            "type": "heatmap"
           }
          ],
          "heatmapgl": [
           {
            "colorbar": {
             "outlinewidth": 0,
             "ticks": ""
            },
            "colorscale": [
             [
              0,
              "#0d0887"
             ],
             [
              0.1111111111111111,
              "#46039f"
             ],
             [
              0.2222222222222222,
              "#7201a8"
             ],
             [
              0.3333333333333333,
              "#9c179e"
             ],
             [
              0.4444444444444444,
              "#bd3786"
             ],
             [
              0.5555555555555556,
              "#d8576b"
             ],
             [
              0.6666666666666666,
              "#ed7953"
             ],
             [
              0.7777777777777778,
              "#fb9f3a"
             ],
             [
              0.8888888888888888,
              "#fdca26"
             ],
             [
              1,
              "#f0f921"
             ]
            ],
            "type": "heatmapgl"
           }
          ],
          "histogram": [
           {
            "marker": {
             "colorbar": {
              "outlinewidth": 0,
              "ticks": ""
             }
            },
            "type": "histogram"
           }
          ],
          "histogram2d": [
           {
            "colorbar": {
             "outlinewidth": 0,
             "ticks": ""
            },
            "colorscale": [
             [
              0,
              "#0d0887"
             ],
             [
              0.1111111111111111,
              "#46039f"
             ],
             [
              0.2222222222222222,
              "#7201a8"
             ],
             [
              0.3333333333333333,
              "#9c179e"
             ],
             [
              0.4444444444444444,
              "#bd3786"
             ],
             [
              0.5555555555555556,
              "#d8576b"
             ],
             [
              0.6666666666666666,
              "#ed7953"
             ],
             [
              0.7777777777777778,
              "#fb9f3a"
             ],
             [
              0.8888888888888888,
              "#fdca26"
             ],
             [
              1,
              "#f0f921"
             ]
            ],
            "type": "histogram2d"
           }
          ],
          "histogram2dcontour": [
           {
            "colorbar": {
             "outlinewidth": 0,
             "ticks": ""
            },
            "colorscale": [
             [
              0,
              "#0d0887"
             ],
             [
              0.1111111111111111,
              "#46039f"
             ],
             [
              0.2222222222222222,
              "#7201a8"
             ],
             [
              0.3333333333333333,
              "#9c179e"
             ],
             [
              0.4444444444444444,
              "#bd3786"
             ],
             [
              0.5555555555555556,
              "#d8576b"
             ],
             [
              0.6666666666666666,
              "#ed7953"
             ],
             [
              0.7777777777777778,
              "#fb9f3a"
             ],
             [
              0.8888888888888888,
              "#fdca26"
             ],
             [
              1,
              "#f0f921"
             ]
            ],
            "type": "histogram2dcontour"
           }
          ],
          "mesh3d": [
           {
            "colorbar": {
             "outlinewidth": 0,
             "ticks": ""
            },
            "type": "mesh3d"
           }
          ],
          "parcoords": [
           {
            "line": {
             "colorbar": {
              "outlinewidth": 0,
              "ticks": ""
             }
            },
            "type": "parcoords"
           }
          ],
          "pie": [
           {
            "automargin": true,
            "type": "pie"
           }
          ],
          "scatter": [
           {
            "marker": {
             "colorbar": {
              "outlinewidth": 0,
              "ticks": ""
             }
            },
            "type": "scatter"
           }
          ],
          "scatter3d": [
           {
            "line": {
             "colorbar": {
              "outlinewidth": 0,
              "ticks": ""
             }
            },
            "marker": {
             "colorbar": {
              "outlinewidth": 0,
              "ticks": ""
             }
            },
            "type": "scatter3d"
           }
          ],
          "scattercarpet": [
           {
            "marker": {
             "colorbar": {
              "outlinewidth": 0,
              "ticks": ""
             }
            },
            "type": "scattercarpet"
           }
          ],
          "scattergeo": [
           {
            "marker": {
             "colorbar": {
              "outlinewidth": 0,
              "ticks": ""
             }
            },
            "type": "scattergeo"
           }
          ],
          "scattergl": [
           {
            "marker": {
             "colorbar": {
              "outlinewidth": 0,
              "ticks": ""
             }
            },
            "type": "scattergl"
           }
          ],
          "scattermapbox": [
           {
            "marker": {
             "colorbar": {
              "outlinewidth": 0,
              "ticks": ""
             }
            },
            "type": "scattermapbox"
           }
          ],
          "scatterpolar": [
           {
            "marker": {
             "colorbar": {
              "outlinewidth": 0,
              "ticks": ""
             }
            },
            "type": "scatterpolar"
           }
          ],
          "scatterpolargl": [
           {
            "marker": {
             "colorbar": {
              "outlinewidth": 0,
              "ticks": ""
             }
            },
            "type": "scatterpolargl"
           }
          ],
          "scatterternary": [
           {
            "marker": {
             "colorbar": {
              "outlinewidth": 0,
              "ticks": ""
             }
            },
            "type": "scatterternary"
           }
          ],
          "surface": [
           {
            "colorbar": {
             "outlinewidth": 0,
             "ticks": ""
            },
            "colorscale": [
             [
              0,
              "#0d0887"
             ],
             [
              0.1111111111111111,
              "#46039f"
             ],
             [
              0.2222222222222222,
              "#7201a8"
             ],
             [
              0.3333333333333333,
              "#9c179e"
             ],
             [
              0.4444444444444444,
              "#bd3786"
             ],
             [
              0.5555555555555556,
              "#d8576b"
             ],
             [
              0.6666666666666666,
              "#ed7953"
             ],
             [
              0.7777777777777778,
              "#fb9f3a"
             ],
             [
              0.8888888888888888,
              "#fdca26"
             ],
             [
              1,
              "#f0f921"
             ]
            ],
            "type": "surface"
           }
          ],
          "table": [
           {
            "cells": {
             "fill": {
              "color": "#EBF0F8"
             },
             "line": {
              "color": "white"
             }
            },
            "header": {
             "fill": {
              "color": "#C8D4E3"
             },
             "line": {
              "color": "white"
             }
            },
            "type": "table"
           }
          ]
         },
         "layout": {
          "annotationdefaults": {
           "arrowcolor": "#2a3f5f",
           "arrowhead": 0,
           "arrowwidth": 1
          },
          "coloraxis": {
           "colorbar": {
            "outlinewidth": 0,
            "ticks": ""
           }
          },
          "colorscale": {
           "diverging": [
            [
             0,
             "#8e0152"
            ],
            [
             0.1,
             "#c51b7d"
            ],
            [
             0.2,
             "#de77ae"
            ],
            [
             0.3,
             "#f1b6da"
            ],
            [
             0.4,
             "#fde0ef"
            ],
            [
             0.5,
             "#f7f7f7"
            ],
            [
             0.6,
             "#e6f5d0"
            ],
            [
             0.7,
             "#b8e186"
            ],
            [
             0.8,
             "#7fbc41"
            ],
            [
             0.9,
             "#4d9221"
            ],
            [
             1,
             "#276419"
            ]
           ],
           "sequential": [
            [
             0,
             "#0d0887"
            ],
            [
             0.1111111111111111,
             "#46039f"
            ],
            [
             0.2222222222222222,
             "#7201a8"
            ],
            [
             0.3333333333333333,
             "#9c179e"
            ],
            [
             0.4444444444444444,
             "#bd3786"
            ],
            [
             0.5555555555555556,
             "#d8576b"
            ],
            [
             0.6666666666666666,
             "#ed7953"
            ],
            [
             0.7777777777777778,
             "#fb9f3a"
            ],
            [
             0.8888888888888888,
             "#fdca26"
            ],
            [
             1,
             "#f0f921"
            ]
           ],
           "sequentialminus": [
            [
             0,
             "#0d0887"
            ],
            [
             0.1111111111111111,
             "#46039f"
            ],
            [
             0.2222222222222222,
             "#7201a8"
            ],
            [
             0.3333333333333333,
             "#9c179e"
            ],
            [
             0.4444444444444444,
             "#bd3786"
            ],
            [
             0.5555555555555556,
             "#d8576b"
            ],
            [
             0.6666666666666666,
             "#ed7953"
            ],
            [
             0.7777777777777778,
             "#fb9f3a"
            ],
            [
             0.8888888888888888,
             "#fdca26"
            ],
            [
             1,
             "#f0f921"
            ]
           ]
          },
          "colorway": [
           "#636efa",
           "#EF553B",
           "#00cc96",
           "#ab63fa",
           "#FFA15A",
           "#19d3f3",
           "#FF6692",
           "#B6E880",
           "#FF97FF",
           "#FECB52"
          ],
          "font": {
           "color": "#2a3f5f"
          },
          "geo": {
           "bgcolor": "white",
           "lakecolor": "white",
           "landcolor": "#E5ECF6",
           "showlakes": true,
           "showland": true,
           "subunitcolor": "white"
          },
          "hoverlabel": {
           "align": "left"
          },
          "hovermode": "closest",
          "mapbox": {
           "style": "light"
          },
          "paper_bgcolor": "white",
          "plot_bgcolor": "#E5ECF6",
          "polar": {
           "angularaxis": {
            "gridcolor": "white",
            "linecolor": "white",
            "ticks": ""
           },
           "bgcolor": "#E5ECF6",
           "radialaxis": {
            "gridcolor": "white",
            "linecolor": "white",
            "ticks": ""
           }
          },
          "scene": {
           "xaxis": {
            "backgroundcolor": "#E5ECF6",
            "gridcolor": "white",
            "gridwidth": 2,
            "linecolor": "white",
            "showbackground": true,
            "ticks": "",
            "zerolinecolor": "white"
           },
           "yaxis": {
            "backgroundcolor": "#E5ECF6",
            "gridcolor": "white",
            "gridwidth": 2,
            "linecolor": "white",
            "showbackground": true,
            "ticks": "",
            "zerolinecolor": "white"
           },
           "zaxis": {
            "backgroundcolor": "#E5ECF6",
            "gridcolor": "white",
            "gridwidth": 2,
            "linecolor": "white",
            "showbackground": true,
            "ticks": "",
            "zerolinecolor": "white"
           }
          },
          "shapedefaults": {
           "line": {
            "color": "#2a3f5f"
           }
          },
          "ternary": {
           "aaxis": {
            "gridcolor": "white",
            "linecolor": "white",
            "ticks": ""
           },
           "baxis": {
            "gridcolor": "white",
            "linecolor": "white",
            "ticks": ""
           },
           "bgcolor": "#E5ECF6",
           "caxis": {
            "gridcolor": "white",
            "linecolor": "white",
            "ticks": ""
           }
          },
          "title": {
           "x": 0.05
          },
          "xaxis": {
           "automargin": true,
           "gridcolor": "white",
           "linecolor": "white",
           "ticks": "",
           "title": {
            "standoff": 15
           },
           "zerolinecolor": "white",
           "zerolinewidth": 2
          },
          "yaxis": {
           "automargin": true,
           "gridcolor": "white",
           "linecolor": "white",
           "ticks": "",
           "title": {
            "standoff": 15
           },
           "zerolinecolor": "white",
           "zerolinewidth": 2
          }
         }
        }
       }
      },
      "image/png": "[encoded data removed]",
      "text/html": [
       "<div>\n",
       "        \n",
       "        \n",
       "            <div id=\"ad8e90e1-166a-450f-8b33-a529c65a2c8f\" class=\"plotly-graph-div\" style=\"height:525px; width:100%;\"></div>\n",
       "            <script type=\"text/javascript\">\n",
       "                require([\"plotly\"], function(Plotly) {\n",
       "                    window.PLOTLYENV=window.PLOTLYENV || {};\n",
       "                    \n",
       "                if (document.getElementById(\"ad8e90e1-166a-450f-8b33-a529c65a2c8f\")) {\n",
       "                    Plotly.newPlot(\n",
       "                        'ad8e90e1-166a-450f-8b33-a529c65a2c8f',\n",
       "                        [{\"branchvalues\": \"total\", \"domain\": {\"x\": [0.0, 1.0], \"y\": [0.0, 1.0]}, \"hovertemplate\": \"labels=%{label}<br>count=%{value}<br>parent=%{parent}<br>id=%{id}<extra></extra>\", \"ids\": [\"Youre/welcome/<blank>\", \"Here/are/a\", \"Here/is/a\", \"This/is/a\", \"Is/there/a\", \"I/have/added\", \"The/dimensions/are\", \"I/would/be\", \"Sure/I/can\", \"Yes/I/can\", \"Here/you/go\", \"Id/be/happy\", \"Do/you/have\", \"I/can/help\", \"Here/it/is\", \"This/one/is\", \"The/price/is\", \"Do/you/like\", \"It/is/made\", \"This/is/our\", \"Here/are/some\", \"I/am/sorry\", \"Here/are/the\", \"Here/is/the\", \"This/is/the\", \"How/about/these\", \"How/about/this\", \"You/are/welcome\", \"What/do/you\", \"Sure/I\", \"Yes/I\", \"How/about\", \"I/am\", \"Here/are\", \"You/are\", \"Id/be\", \"I/can\", \"The/dimensions\", \"What/do\", \"I/have\", \"Here/is\", \"It/is\", \"This/is\", \"Here/it\", \"This/one\", \"The/price\", \"Is/there\", \"Youre/welcome\", \"I/would\", \"Do/you\", \"Here/you\", \"Do\", \"Here\", \"How\", \"I\", \"Id\", \"Is\", \"It\", \"Sure\", \"The\", \"This\", \"What\", \"Yes\", \"You\", \"Youre\"], \"labels\": [\"<blank>\", \"a\", \"a\", \"a\", \"a\", \"added\", \"are\", \"be\", \"can\", \"can\", \"go\", \"happy\", \"have\", \"help\", \"is\", \"is\", \"is\", \"like\", \"made\", \"our\", \"some\", \"sorry\", \"the\", \"the\", \"the\", \"these\", \"this\", \"welcome\", \"you\", \"I\", \"I\", \"about\", \"am\", \"are\", \"are\", \"be\", \"can\", \"dimensions\", \"do\", \"have\", \"is\", \"is\", \"is\", \"it\", \"one\", \"price\", \"there\", \"welcome\", \"would\", \"you\", \"you\", \"Do\", \"Here\", \"How\", \"I\", \"Id\", \"Is\", \"It\", \"Sure\", \"The\", \"This\", \"What\", \"Yes\", \"You\", \"Youre\"], \"name\": \"\", \"parents\": [\"Youre/welcome\", \"Here/are\", \"Here/is\", \"This/is\", \"Is/there\", \"I/have\", \"The/dimensions\", \"I/would\", \"Sure/I\", \"Yes/I\", \"Here/you\", \"Id/be\", \"Do/you\", \"I/can\", \"Here/it\", \"This/one\", \"The/price\", \"Do/you\", \"It/is\", \"This/is\", \"Here/are\", \"I/am\", \"Here/are\", \"Here/is\", \"This/is\", \"How/about\", \"How/about\", \"You/are\", \"What/do\", \"Sure\", \"Yes\", \"How\", \"I\", \"Here\", \"You\", \"Id\", \"I\", \"The\", \"What\", \"I\", \"Here\", \"It\", \"This\", \"Here\", \"This\", \"The\", \"Is\", \"Youre\", \"I\", \"Do\", \"Here\", \"\", \"\", \"\", \"\", \"\", \"\", \"\", \"\", \"\", \"\", \"\", \"\", \"\", \"\"], \"type\": \"sunburst\", \"values\": [42, 58, 56, 36, 20, 49, 30, 20, 18, 18, 52, 23, 23, 21, 18, 53, 54, 28, 19, 21, 71, 17, 18, 39, 139, 23, 21, 56, 18, 18, 18, 44, 17, 147, 56, 23, 21, 30, 18, 49, 95, 19, 196, 18, 53, 54, 20, 42, 20, 51, 52, 51, 312, 44, 107, 23, 20, 19, 18, 84, 249, 18, 18, 56, 42]}],\n",
       "                        {\"legend\": {\"tracegroupgap\": 0}, \"margin\": {\"t\": 60}, \"template\": {\"data\": {\"bar\": [{\"error_x\": {\"color\": \"#2a3f5f\"}, \"error_y\": {\"color\": \"#2a3f5f\"}, \"marker\": {\"line\": {\"color\": \"#E5ECF6\", \"width\": 0.5}}, \"type\": \"bar\"}], \"barpolar\": [{\"marker\": {\"line\": {\"color\": \"#E5ECF6\", \"width\": 0.5}}, \"type\": \"barpolar\"}], \"carpet\": [{\"aaxis\": {\"endlinecolor\": \"#2a3f5f\", \"gridcolor\": \"white\", \"linecolor\": \"white\", \"minorgridcolor\": \"white\", \"startlinecolor\": \"#2a3f5f\"}, \"baxis\": {\"endlinecolor\": \"#2a3f5f\", \"gridcolor\": \"white\", \"linecolor\": \"white\", \"minorgridcolor\": \"white\", \"startlinecolor\": \"#2a3f5f\"}, \"type\": \"carpet\"}], \"choropleth\": [{\"colorbar\": {\"outlinewidth\": 0, \"ticks\": \"\"}, \"type\": \"choropleth\"}], \"contour\": [{\"colorbar\": {\"outlinewidth\": 0, \"ticks\": \"\"}, \"colorscale\": [[0.0, \"#0d0887\"], [0.1111111111111111, \"#46039f\"], [0.2222222222222222, \"#7201a8\"], [0.3333333333333333, \"#9c179e\"], [0.4444444444444444, \"#bd3786\"], [0.5555555555555556, \"#d8576b\"], [0.6666666666666666, \"#ed7953\"], [0.7777777777777778, \"#fb9f3a\"], [0.8888888888888888, \"#fdca26\"], [1.0, \"#f0f921\"]], \"type\": \"contour\"}], \"contourcarpet\": [{\"colorbar\": {\"outlinewidth\": 0, \"ticks\": \"\"}, \"type\": \"contourcarpet\"}], \"heatmap\": [{\"colorbar\": {\"outlinewidth\": 0, \"ticks\": \"\"}, \"colorscale\": [[0.0, \"#0d0887\"], [0.1111111111111111, \"#46039f\"], [0.2222222222222222, \"#7201a8\"], [0.3333333333333333, \"#9c179e\"], [0.4444444444444444, \"#bd3786\"], [0.5555555555555556, \"#d8576b\"], [0.6666666666666666, \"#ed7953\"], [0.7777777777777778, \"#fb9f3a\"], [0.8888888888888888, \"#fdca26\"], [1.0, \"#f0f921\"]], \"type\": \"heatmap\"}], \"heatmapgl\": [{\"colorbar\": {\"outlinewidth\": 0, \"ticks\": \"\"}, \"colorscale\": [[0.0, \"#0d0887\"], [0.1111111111111111, \"#46039f\"], [0.2222222222222222, \"#7201a8\"], [0.3333333333333333, \"#9c179e\"], [0.4444444444444444, \"#bd3786\"], [0.5555555555555556, \"#d8576b\"], [0.6666666666666666, \"#ed7953\"], [0.7777777777777778, \"#fb9f3a\"], [0.8888888888888888, \"#fdca26\"], [1.0, \"#f0f921\"]], \"type\": \"heatmapgl\"}], \"histogram\": [{\"marker\": {\"colorbar\": {\"outlinewidth\": 0, \"ticks\": \"\"}}, \"type\": \"histogram\"}], \"histogram2d\": [{\"colorbar\": {\"outlinewidth\": 0, \"ticks\": \"\"}, \"colorscale\": [[0.0, \"#0d0887\"], [0.1111111111111111, \"#46039f\"], [0.2222222222222222, \"#7201a8\"], [0.3333333333333333, \"#9c179e\"], [0.4444444444444444, \"#bd3786\"], [0.5555555555555556, \"#d8576b\"], [0.6666666666666666, \"#ed7953\"], [0.7777777777777778, \"#fb9f3a\"], [0.8888888888888888, \"#fdca26\"], [1.0, \"#f0f921\"]], \"type\": \"histogram2d\"}], \"histogram2dcontour\": [{\"colorbar\": {\"outlinewidth\": 0, \"ticks\": \"\"}, \"colorscale\": [[0.0, \"#0d0887\"], [0.1111111111111111, \"#46039f\"], [0.2222222222222222, \"#7201a8\"], [0.3333333333333333, \"#9c179e\"], [0.4444444444444444, \"#bd3786\"], [0.5555555555555556, \"#d8576b\"], [0.6666666666666666, \"#ed7953\"], [0.7777777777777778, \"#fb9f3a\"], [0.8888888888888888, \"#fdca26\"], [1.0, \"#f0f921\"]], \"type\": \"histogram2dcontour\"}], \"mesh3d\": [{\"colorbar\": {\"outlinewidth\": 0, \"ticks\": \"\"}, \"type\": \"mesh3d\"}], \"parcoords\": [{\"line\": {\"colorbar\": {\"outlinewidth\": 0, \"ticks\": \"\"}}, \"type\": \"parcoords\"}], \"pie\": [{\"automargin\": true, \"type\": \"pie\"}], \"scatter\": [{\"marker\": {\"colorbar\": {\"outlinewidth\": 0, \"ticks\": \"\"}}, \"type\": \"scatter\"}], \"scatter3d\": [{\"line\": {\"colorbar\": {\"outlinewidth\": 0, \"ticks\": \"\"}}, \"marker\": {\"colorbar\": {\"outlinewidth\": 0, \"ticks\": \"\"}}, \"type\": \"scatter3d\"}], \"scattercarpet\": [{\"marker\": {\"colorbar\": {\"outlinewidth\": 0, \"ticks\": \"\"}}, \"type\": \"scattercarpet\"}], \"scattergeo\": [{\"marker\": {\"colorbar\": {\"outlinewidth\": 0, \"ticks\": \"\"}}, \"type\": \"scattergeo\"}], \"scattergl\": [{\"marker\": {\"colorbar\": {\"outlinewidth\": 0, \"ticks\": \"\"}}, \"type\": \"scattergl\"}], \"scattermapbox\": [{\"marker\": {\"colorbar\": {\"outlinewidth\": 0, \"ticks\": \"\"}}, \"type\": \"scattermapbox\"}], \"scatterpolar\": [{\"marker\": {\"colorbar\": {\"outlinewidth\": 0, \"ticks\": \"\"}}, \"type\": \"scatterpolar\"}], \"scatterpolargl\": [{\"marker\": {\"colorbar\": {\"outlinewidth\": 0, \"ticks\": \"\"}}, \"type\": \"scatterpolargl\"}], \"scatterternary\": [{\"marker\": {\"colorbar\": {\"outlinewidth\": 0, \"ticks\": \"\"}}, \"type\": \"scatterternary\"}], \"surface\": [{\"colorbar\": {\"outlinewidth\": 0, \"ticks\": \"\"}, \"colorscale\": [[0.0, \"#0d0887\"], [0.1111111111111111, \"#46039f\"], [0.2222222222222222, \"#7201a8\"], [0.3333333333333333, \"#9c179e\"], [0.4444444444444444, \"#bd3786\"], [0.5555555555555556, \"#d8576b\"], [0.6666666666666666, \"#ed7953\"], [0.7777777777777778, \"#fb9f3a\"], [0.8888888888888888, \"#fdca26\"], [1.0, \"#f0f921\"]], \"type\": \"surface\"}], \"table\": [{\"cells\": {\"fill\": {\"color\": \"#EBF0F8\"}, \"line\": {\"color\": \"white\"}}, \"header\": {\"fill\": {\"color\": \"#C8D4E3\"}, \"line\": {\"color\": \"white\"}}, \"type\": \"table\"}]}, \"layout\": {\"annotationdefaults\": {\"arrowcolor\": \"#2a3f5f\", \"arrowhead\": 0, \"arrowwidth\": 1}, \"coloraxis\": {\"colorbar\": {\"outlinewidth\": 0, \"ticks\": \"\"}}, \"colorscale\": {\"diverging\": [[0, \"#8e0152\"], [0.1, \"#c51b7d\"], [0.2, \"#de77ae\"], [0.3, \"#f1b6da\"], [0.4, \"#fde0ef\"], [0.5, \"#f7f7f7\"], [0.6, \"#e6f5d0\"], [0.7, \"#b8e186\"], [0.8, \"#7fbc41\"], [0.9, \"#4d9221\"], [1, \"#276419\"]], \"sequential\": [[0.0, \"#0d0887\"], [0.1111111111111111, \"#46039f\"], [0.2222222222222222, \"#7201a8\"], [0.3333333333333333, \"#9c179e\"], [0.4444444444444444, \"#bd3786\"], [0.5555555555555556, \"#d8576b\"], [0.6666666666666666, \"#ed7953\"], [0.7777777777777778, \"#fb9f3a\"], [0.8888888888888888, \"#fdca26\"], [1.0, \"#f0f921\"]], \"sequentialminus\": [[0.0, \"#0d0887\"], [0.1111111111111111, \"#46039f\"], [0.2222222222222222, \"#7201a8\"], [0.3333333333333333, \"#9c179e\"], [0.4444444444444444, \"#bd3786\"], [0.5555555555555556, \"#d8576b\"], [0.6666666666666666, \"#ed7953\"], [0.7777777777777778, \"#fb9f3a\"], [0.8888888888888888, \"#fdca26\"], [1.0, \"#f0f921\"]]}, \"colorway\": [\"#636efa\", \"#EF553B\", \"#00cc96\", \"#ab63fa\", \"#FFA15A\", \"#19d3f3\", \"#FF6692\", \"#B6E880\", \"#FF97FF\", \"#FECB52\"], \"font\": {\"color\": \"#2a3f5f\"}, \"geo\": {\"bgcolor\": \"white\", \"lakecolor\": \"white\", \"landcolor\": \"#E5ECF6\", \"showlakes\": true, \"showland\": true, \"subunitcolor\": \"white\"}, \"hoverlabel\": {\"align\": \"left\"}, \"hovermode\": \"closest\", \"mapbox\": {\"style\": \"light\"}, \"paper_bgcolor\": \"white\", \"plot_bgcolor\": \"#E5ECF6\", \"polar\": {\"angularaxis\": {\"gridcolor\": \"white\", \"linecolor\": \"white\", \"ticks\": \"\"}, \"bgcolor\": \"#E5ECF6\", \"radialaxis\": {\"gridcolor\": \"white\", \"linecolor\": \"white\", \"ticks\": \"\"}}, \"scene\": {\"xaxis\": {\"backgroundcolor\": \"#E5ECF6\", \"gridcolor\": \"white\", \"gridwidth\": 2, \"linecolor\": \"white\", \"showbackground\": true, \"ticks\": \"\", \"zerolinecolor\": \"white\"}, \"yaxis\": {\"backgroundcolor\": \"#E5ECF6\", \"gridcolor\": \"white\", \"gridwidth\": 2, \"linecolor\": \"white\", \"showbackground\": true, \"ticks\": \"\", \"zerolinecolor\": \"white\"}, \"zaxis\": {\"backgroundcolor\": \"#E5ECF6\", \"gridcolor\": \"white\", \"gridwidth\": 2, \"linecolor\": \"white\", \"showbackground\": true, \"ticks\": \"\", \"zerolinecolor\": \"white\"}}, \"shapedefaults\": {\"line\": {\"color\": \"#2a3f5f\"}}, \"ternary\": {\"aaxis\": {\"gridcolor\": \"white\", \"linecolor\": \"white\", \"ticks\": \"\"}, \"baxis\": {\"gridcolor\": \"white\", \"linecolor\": \"white\", \"ticks\": \"\"}, \"bgcolor\": \"#E5ECF6\", \"caxis\": {\"gridcolor\": \"white\", \"linecolor\": \"white\", \"ticks\": \"\"}}, \"title\": {\"x\": 0.05}, \"xaxis\": {\"automargin\": true, \"gridcolor\": \"white\", \"linecolor\": \"white\", \"ticks\": \"\", \"title\": {\"standoff\": 15}, \"zerolinecolor\": \"white\", \"zerolinewidth\": 2}, \"yaxis\": {\"automargin\": true, \"gridcolor\": \"white\", \"linecolor\": \"white\", \"ticks\": \"\", \"title\": {\"standoff\": 15}, \"zerolinecolor\": \"white\", \"zerolinewidth\": 2}}}},\n",
       "                        {\"responsive\": true}\n",
       "                    ).then(function(){\n",
       "                            \n",
       "var gd = document.getElementById('ad8e90e1-166a-450f-8b33-a529c65a2c8f');\n",
       "var x = new MutationObserver(function (mutations, observer) {{\n",
       "        var display = window.getComputedStyle(gd).display;\n",
       "        if (!display || display === 'none') {{\n",
       "            console.log([gd, 'removed!']);\n",
       "            Plotly.purge(gd);\n",
       "            observer.disconnect();\n",
       "        }}\n",
       "}});\n",
       "\n",
       "// Listen for the removal of the full notebook cells\n",
       "var notebookContainer = gd.closest('#notebook-container');\n",
       "if (notebookContainer) {{\n",
       "    x.observe(notebookContainer, {childList: true});\n",
       "}}\n",
       "\n",
       "// Listen for the clearing of the current output cell\n",
       "var outputEl = gd.closest('.output');\n",
       "if (outputEl) {{\n",
       "    x.observe(outputEl, {childList: true});\n",
       "}}\n",
       "\n",
       "                        })\n",
       "                };\n",
       "                });\n",
       "            </script>\n",
       "        </div>"
      ]
     },
     "metadata": {},
     "output_type": "display_data"
    }
   ],
   "source": [
    "plot_sentence_sunburst(sys_turns, 3)"
   ]
  },
  {
   "cell_type": "code",
   "execution_count": 43,
   "metadata": {},
   "outputs": [
    {
     "data": {
      "text/plain": [
       "'acd'"
      ]
     },
     "execution_count": 43,
     "metadata": {},
     "output_type": "execute_result"
    }
   ],
   "source": [
    "l = 'abcd'\n"
   ]
  },
  {
   "cell_type": "code",
   "execution_count": null,
   "metadata": {},
   "outputs": [],
   "source": []
  }
 ],
 "metadata": {
  "kernelspec": {
   "display_name": "Python 3",
   "language": "python",
   "name": "python3"
  },
  "language_info": {
   "codemirror_mode": {
    "name": "ipython",
    "version": 3
   },
   "file_extension": ".py",
   "mimetype": "text/x-python",
   "name": "python",
   "nbconvert_exporter": "python",
   "pygments_lexer": "ipython3",
   "version": "3.7.4"
  }
 },
 "nbformat": 4,
 "nbformat_minor": 4
}
